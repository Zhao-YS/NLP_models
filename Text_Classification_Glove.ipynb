{
 "cells": [
  {
   "cell_type": "code",
   "execution_count": 1,
   "id": "080d50fc",
   "metadata": {},
   "outputs": [],
   "source": [
    "import argparse\n",
    "import logging\n",
    "import time\n",
    "\n",
    "import torch\n",
    "from torch.utils.data import DataLoader\n",
    "from torch.utils.data.dataset import random_split\n",
    "from torchtext.data.functional import to_map_style_dataset\n",
    "from torchtext.data.utils import get_tokenizer\n",
    "from torchtext.datasets import DATASETS\n",
    "from torchtext.prototype.transforms import load_sp_model, PRETRAINED_SP_MODEL, SentencePieceTokenizer\n",
    "from torchtext.utils import download_from_url\n",
    "from torchtext.vocab import build_vocab_from_iterator\n",
    "import torch.nn as nn\n",
    "from torch.nn.utils.rnn import pad_sequence\n",
    "import torch.nn.functional as F\n",
    "from torchtext.vocab import GloVe, FastText"
   ]
  },
  {
   "cell_type": "code",
   "execution_count": 2,
   "id": "329c056d",
   "metadata": {},
   "outputs": [],
   "source": [
    "# Constants\n",
    "dataset_name = \"AG_NEWS\"\n",
    "data_dir = \"data\"\n",
    "device = \"cpu\"\n",
    "embedding_dim = 300\n",
    "learning_rate = 4.0\n",
    "batch_size = 16\n",
    "num_epochs = 5\n",
    "padding_value = 0\n",
    "padding_idx = padding_value\n"
   ]
  },
  {
   "cell_type": "code",
   "execution_count": 3,
   "id": "93e3b7cb",
   "metadata": {},
   "outputs": [],
   "source": [
    "basic_tokenizer = get_tokenizer(\"basic_english\")"
   ]
  },
  {
   "cell_type": "code",
   "execution_count": 4,
   "id": "e5c6ebc5",
   "metadata": {},
   "outputs": [],
   "source": [
    "sp_model_path = download_from_url(PRETRAINED_SP_MODEL[\"text_unigram_15000\"], root=\"data\")\n",
    "sp_model = load_sp_model(sp_model_path)\n",
    "sentencepiece_tokenizer = SentencePieceTokenizer(sp_model)"
   ]
  },
  {
   "cell_type": "code",
   "execution_count": 5,
   "id": "aa4b78e4",
   "metadata": {},
   "outputs": [],
   "source": [
    "tokenizer = basic_tokenizer"
   ]
  },
  {
   "cell_type": "code",
   "execution_count": 6,
   "id": "ce4a0578",
   "metadata": {},
   "outputs": [],
   "source": [
    "def yield_tokens(data_iter):\n",
    "    for _, text in data_iter:\n",
    "        yield tokenizer(text)"
   ]
  },
  {
   "cell_type": "code",
   "execution_count": 7,
   "id": "f48f23ab",
   "metadata": {},
   "outputs": [],
   "source": [
    "train_iter = DATASETS[dataset_name](root=data_dir, split=\"train\")\n",
    "vocab = build_vocab_from_iterator(yield_tokens(train_iter), specials=('<pad>', '<unk>'))\n",
    "vocab.set_default_index(vocab['<unk>'])"
   ]
  },
  {
   "cell_type": "code",
   "execution_count": 8,
   "id": "c4589bd6",
   "metadata": {},
   "outputs": [],
   "source": [
    "glove = GloVe(name='840B', dim=300)\n",
    "fasttext = FastText()"
   ]
  },
  {
   "cell_type": "code",
   "execution_count": 9,
   "id": "16ca1ef5",
   "metadata": {},
   "outputs": [],
   "source": [
    "# tokenize the string input and shift lables\n",
    "def text_pipeline(text):\n",
    "    return vocab(tokenizer(text))\n",
    "\n",
    "def label_pipeline(label):\n",
    "    return int(label) - 1"
   ]
  },
  {
   "cell_type": "code",
   "execution_count": 10,
   "id": "ff479986",
   "metadata": {},
   "outputs": [],
   "source": [
    "def collate_batch(batch):\n",
    "    label_list, text_list = [], []\n",
    "    for (_label, _text) in batch:\n",
    "        # Change the label from {1, 2, 3, 4} to {0, 1, 2, 3}\n",
    "        label_list.append(label_pipeline(_label))\n",
    "                \n",
    "        # Return a list of ints.\n",
    "        processed_text = torch.tensor(text_pipeline(_text), dtype=torch.int64)\n",
    "        text_list.append(processed_text.clone().detach())\n",
    "    \n",
    "    label_list = torch.tensor(label_list, dtype=torch.int64)\n",
    "    \n",
    "    # padding all sequences with 0\n",
    "    text_list = pad_sequence(text_list, batch_first=True, padding_value=padding_value)\n",
    "\n",
    "    return label_list.to(device), text_list.to(device)\n"
   ]
  },
  {
   "cell_type": "code",
   "execution_count": 11,
   "id": "e617ddce",
   "metadata": {},
   "outputs": [
    {
     "name": "stdout",
     "output_type": "stream",
     "text": [
      "The number of classes is 4 ...\n"
     ]
    }
   ],
   "source": [
    "# Get the data\n",
    "train_iter = DATASETS[dataset_name](root=data_dir, split=\"train\")\n",
    "num_classes = len(set([label for (label, _) in train_iter]))\n",
    "\n",
    "print(f\"The number of classes is {num_classes} ...\")"
   ]
  },
  {
   "cell_type": "code",
   "execution_count": 12,
   "id": "dc51c359",
   "metadata": {},
   "outputs": [],
   "source": [
    "# Define the model\n",
    "class TextClassifier(nn.Module):\n",
    "    def __init__(self, vocab_size, embedding_dim, num_classes, use_pretrained=True, freeze_embeddings=True):\n",
    "        super(TextClassifier, self).__init__()\n",
    "        self.embedding = nn.Embedding(vocab_size, embedding_dim, padding_idx=padding_idx)\n",
    "\n",
    "        if use_pretrained:\n",
    "            self.embedding.weight.requires_grad = False\n",
    "            for i in range(vocab_size):\n",
    "                token = vocab.lookup_token(i)\n",
    "                self.embedding.weight[i, :] = glove.get_vecs_by_tokens(tokenizer(token), lower_case_backup=True)\n",
    "            self.embedding.weight.requires_grad = True\n",
    "\n",
    "        if freeze_embeddings:\n",
    "            self.embedding.weight.requires_grad = False\n",
    "\n",
    "        self.fc = nn.Linear(embedding_dim, num_classes)\n",
    "        self.init_weights()\n",
    "\n",
    "    def init_weights(self):\n",
    "        initrange = 0.5\n",
    "        self.embedding.weight.data.uniform_(-initrange, initrange)\n",
    "        self.fc.weight.data.uniform_(-initrange, initrange)\n",
    "        self.fc.bias.data.zero_()\n",
    "\n",
    "    def forward(self, text):\n",
    "        embedded = self.embedding(text)\n",
    "        embedded_mean = embedded.mean(axis=1).squeeze(1)\n",
    "        output = self.fc(embedded_mean)\n",
    "\n",
    "        return output"
   ]
  },
  {
   "cell_type": "code",
   "execution_count": 13,
   "id": "cef585f4",
   "metadata": {},
   "outputs": [],
   "source": [
    "#Set up the model\n",
    "\n",
    "criterion = torch.nn.CrossEntropyLoss().to(device)\n",
    "model = TextClassifier(len(vocab), embedding_dim, num_classes, use_pretrained=True, freeze_embeddings=True).to(device)\n",
    "optimizer = torch.optim.SGD(model.parameters(), lr=learning_rate)\n",
    "scheduler = torch.optim.lr_scheduler.StepLR(optimizer, 1.0, gamma=0.1)"
   ]
  },
  {
   "cell_type": "code",
   "execution_count": 14,
   "id": "9c0aebb5",
   "metadata": {},
   "outputs": [],
   "source": [
    "train_iter, test_iter = DATASETS[dataset_name]()\n",
    "train_dataset = to_map_style_dataset(train_iter)\n",
    "test_dataset = to_map_style_dataset(test_iter)\n",
    "\n",
    "num_train = int(len(train_dataset) * 0.95)\n",
    "split_train, split_valid = random_split(train_dataset, [num_train, len(train_dataset) - num_train])\n",
    "\n",
    "train_dataloader = DataLoader(split_train, batch_size=batch_size, shuffle=True, collate_fn=collate_batch)\n",
    "valid_dataloader = DataLoader(split_valid, batch_size=batch_size, shuffle=True, collate_fn=collate_batch)\n",
    "test_dataloader = DataLoader(test_dataset, batch_size=batch_size, shuffle=True, collate_fn=collate_batch)"
   ]
  },
  {
   "cell_type": "code",
   "execution_count": 15,
   "id": "24950481",
   "metadata": {},
   "outputs": [],
   "source": [
    "def train_epoch(dataloader, model, optimizer, criterion, epoch):\n",
    "    model.train()\n",
    "    total_acc, total_count = 0, 0\n",
    "    log_interval = 500\n",
    "\n",
    "    for idx, (labels, texts) in enumerate(dataloader):\n",
    "        optimizer.zero_grad()\n",
    "        logits = model(texts)\n",
    "        loss = criterion(input=logits, target=labels)\n",
    "\n",
    "        loss.backward()\n",
    "\n",
    "        torch.nn.utils.clip_grad_norm_(model.parameters(), 0.1)\n",
    "\n",
    "        optimizer.step()\n",
    "        total_acc += (logits.argmax(1) == labels).sum().item()\n",
    "        total_count += labels.size(0)\n",
    "\n",
    "        if idx % log_interval == 0 and idx > 0:\n",
    "            print(f\"| epoch {epoch:3d} | {idx:5d}/{len(dataloader):5d} batches | accuracy {total_acc / total_count:8.3f}\")\n",
    "            total_acc, total_count = 0, 0\n"
   ]
  },
  {
   "cell_type": "code",
   "execution_count": 16,
   "id": "39a702be",
   "metadata": {},
   "outputs": [],
   "source": [
    "def evaluate(dataloader, model):\n",
    "    model.eval()\n",
    "    total_acc, total_count = 0, 0\n",
    "\n",
    "    with torch.no_grad():\n",
    "        for idx, (labels, texts) in enumerate(dataloader):\n",
    "            logits = model(texts)\n",
    "            total_acc += (logits.argmax(1) == labels).sum().item()\n",
    "            total_count += labels.size(0)\n",
    "\n",
    "    return total_acc / total_count"
   ]
  },
  {
   "cell_type": "code",
   "execution_count": 17,
   "id": "a9e02c09",
   "metadata": {},
   "outputs": [
    {
     "name": "stdout",
     "output_type": "stream",
     "text": [
      "| epoch   1 |   500/ 7125 batches | accuracy    0.347\n",
      "| epoch   1 |  1000/ 7125 batches | accuracy    0.461\n",
      "| epoch   1 |  1500/ 7125 batches | accuracy    0.518\n",
      "| epoch   1 |  2000/ 7125 batches | accuracy    0.549\n",
      "| epoch   1 |  2500/ 7125 batches | accuracy    0.570\n",
      "| epoch   1 |  3000/ 7125 batches | accuracy    0.576\n",
      "| epoch   1 |  3500/ 7125 batches | accuracy    0.595\n",
      "| epoch   1 |  4000/ 7125 batches | accuracy    0.594\n",
      "| epoch   1 |  4500/ 7125 batches | accuracy    0.609\n",
      "| epoch   1 |  5000/ 7125 batches | accuracy    0.611\n",
      "| epoch   1 |  5500/ 7125 batches | accuracy    0.615\n",
      "| epoch   1 |  6000/ 7125 batches | accuracy    0.616\n",
      "| epoch   1 |  6500/ 7125 batches | accuracy    0.630\n",
      "| epoch   1 |  7000/ 7125 batches | accuracy    0.635\n",
      "-----------------------------------------------------------\n",
      "| end of epoch   1 | time: 10.51s | valid accuracy    0.657 \n",
      "-----------------------------------------------------------\n",
      "| epoch   2 |   500/ 7125 batches | accuracy    0.679\n",
      "| epoch   2 |  1000/ 7125 batches | accuracy    0.683\n",
      "| epoch   2 |  1500/ 7125 batches | accuracy    0.669\n",
      "| epoch   2 |  2000/ 7125 batches | accuracy    0.670\n",
      "| epoch   2 |  2500/ 7125 batches | accuracy    0.685\n",
      "| epoch   2 |  3000/ 7125 batches | accuracy    0.685\n",
      "| epoch   2 |  3500/ 7125 batches | accuracy    0.670\n",
      "| epoch   2 |  4000/ 7125 batches | accuracy    0.670\n",
      "| epoch   2 |  4500/ 7125 batches | accuracy    0.672\n",
      "| epoch   2 |  5000/ 7125 batches | accuracy    0.680\n",
      "| epoch   2 |  5500/ 7125 batches | accuracy    0.678\n",
      "| epoch   2 |  6000/ 7125 batches | accuracy    0.677\n",
      "| epoch   2 |  6500/ 7125 batches | accuracy    0.682\n",
      "| epoch   2 |  7000/ 7125 batches | accuracy    0.682\n",
      "-----------------------------------------------------------\n",
      "| end of epoch   2 | time:  9.84s | valid accuracy    0.671 \n",
      "-----------------------------------------------------------\n",
      "| epoch   3 |   500/ 7125 batches | accuracy    0.686\n",
      "| epoch   3 |  1000/ 7125 batches | accuracy    0.689\n",
      "| epoch   3 |  1500/ 7125 batches | accuracy    0.682\n",
      "| epoch   3 |  2000/ 7125 batches | accuracy    0.674\n",
      "| epoch   3 |  2500/ 7125 batches | accuracy    0.678\n",
      "| epoch   3 |  3000/ 7125 batches | accuracy    0.691\n",
      "| epoch   3 |  3500/ 7125 batches | accuracy    0.687\n",
      "| epoch   3 |  4000/ 7125 batches | accuracy    0.683\n",
      "| epoch   3 |  4500/ 7125 batches | accuracy    0.685\n",
      "| epoch   3 |  5000/ 7125 batches | accuracy    0.677\n",
      "| epoch   3 |  5500/ 7125 batches | accuracy    0.681\n",
      "| epoch   3 |  6000/ 7125 batches | accuracy    0.681\n",
      "| epoch   3 |  6500/ 7125 batches | accuracy    0.688\n",
      "| epoch   3 |  7000/ 7125 batches | accuracy    0.683\n",
      "-----------------------------------------------------------\n",
      "| end of epoch   3 | time: 10.84s | valid accuracy    0.686 \n",
      "-----------------------------------------------------------\n",
      "| epoch   4 |   500/ 7125 batches | accuracy    0.680\n",
      "| epoch   4 |  1000/ 7125 batches | accuracy    0.688\n",
      "| epoch   4 |  1500/ 7125 batches | accuracy    0.686\n",
      "| epoch   4 |  2000/ 7125 batches | accuracy    0.681\n",
      "| epoch   4 |  2500/ 7125 batches | accuracy    0.681\n",
      "| epoch   4 |  3000/ 7125 batches | accuracy    0.681\n",
      "| epoch   4 |  3500/ 7125 batches | accuracy    0.689\n",
      "| epoch   4 |  4000/ 7125 batches | accuracy    0.695\n",
      "| epoch   4 |  4500/ 7125 batches | accuracy    0.675\n",
      "| epoch   4 |  5000/ 7125 batches | accuracy    0.677\n",
      "| epoch   4 |  5500/ 7125 batches | accuracy    0.687\n",
      "| epoch   4 |  6000/ 7125 batches | accuracy    0.685\n",
      "| epoch   4 |  6500/ 7125 batches | accuracy    0.682\n",
      "| epoch   4 |  7000/ 7125 batches | accuracy    0.686\n",
      "-----------------------------------------------------------\n",
      "| end of epoch   4 | time: 11.12s | valid accuracy    0.686 \n",
      "-----------------------------------------------------------\n",
      "| epoch   5 |   500/ 7125 batches | accuracy    0.684\n",
      "| epoch   5 |  1000/ 7125 batches | accuracy    0.677\n",
      "| epoch   5 |  1500/ 7125 batches | accuracy    0.684\n",
      "| epoch   5 |  2000/ 7125 batches | accuracy    0.679\n",
      "| epoch   5 |  2500/ 7125 batches | accuracy    0.694\n",
      "| epoch   5 |  3000/ 7125 batches | accuracy    0.690\n",
      "| epoch   5 |  3500/ 7125 batches | accuracy    0.681\n",
      "| epoch   5 |  4000/ 7125 batches | accuracy    0.685\n",
      "| epoch   5 |  4500/ 7125 batches | accuracy    0.679\n",
      "| epoch   5 |  5000/ 7125 batches | accuracy    0.680\n",
      "| epoch   5 |  5500/ 7125 batches | accuracy    0.680\n",
      "| epoch   5 |  6000/ 7125 batches | accuracy    0.684\n",
      "| epoch   5 |  6500/ 7125 batches | accuracy    0.689\n",
      "| epoch   5 |  7000/ 7125 batches | accuracy    0.680\n",
      "-----------------------------------------------------------\n",
      "| end of epoch   5 | time: 10.22s | valid accuracy    0.684 \n",
      "-----------------------------------------------------------\n",
      "Checking the results of test dataset.\n",
      "test accuracy    0.687\n"
     ]
    }
   ],
   "source": [
    "for epoch in range(1, num_epochs + 1):\n",
    "    epoch_start_time = time.time()\n",
    "    train_epoch(train_dataloader, model, optimizer, criterion, epoch)\n",
    "    accu_val = evaluate(valid_dataloader, model)\n",
    "    scheduler.step()\n",
    "    print(\"-\" * 59)\n",
    "    print(\n",
    "        \"| end of epoch {:3d} | time: {:5.2f}s | \"\n",
    "        \"valid accuracy {:8.3f} \".format(epoch, time.time() - epoch_start_time, accu_val)\n",
    "    )\n",
    "    print(\"-\" * 59)\n",
    "\n",
    "print(\"Checking the results of test dataset.\")\n",
    "accu_test = evaluate(test_dataloader, model)\n",
    "print(\"test accuracy {:8.3f}\".format(accu_test))"
   ]
  }
 ],
 "metadata": {
  "kernelspec": {
   "display_name": "Python 3 (ipykernel)",
   "language": "python",
   "name": "python3"
  },
  "language_info": {
   "codemirror_mode": {
    "name": "ipython",
    "version": 3
   },
   "file_extension": ".py",
   "mimetype": "text/x-python",
   "name": "python",
   "nbconvert_exporter": "python",
   "pygments_lexer": "ipython3",
   "version": "3.9.18"
  }
 },
 "nbformat": 4,
 "nbformat_minor": 5
}
