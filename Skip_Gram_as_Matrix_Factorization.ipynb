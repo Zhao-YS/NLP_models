{
 "cells": [
  {
   "cell_type": "code",
   "execution_count": 1,
   "metadata": {
    "colab": {
     "base_uri": "https://localhost:8080/",
     "height": 34
    },
    "id": "CDkGUbEyetcF",
    "outputId": "d1cf5554-13c9-441b-c24b-b7bd965afecf"
   },
   "outputs": [],
   "source": [
    "import torch\n",
    "import torch.nn as nn\n",
    "import numpy as np\n",
    "import requests\n",
    "import io\n",
    "import zipfile\n",
    "import pandas as pd\n",
    "from matplotlib import pyplot as plt\n",
    "\n",
    "from collections import defaultdict\n",
    "import numpy as np"
   ]
  },
  {
   "cell_type": "code",
   "execution_count": 2,
   "metadata": {
    "id": "-91EbJk3ev9w"
   },
   "outputs": [],
   "source": [
    "# Define the model\n",
    "\n",
    "class MatrixFactorizationModel(nn.Module):\n",
    "    def __init__(self, vocab_size, embedding_dim):\n",
    "        super(MatrixFactorizationModel, self).__init__()\n",
    "        self.item_embeddings = torch.nn.Parameter(torch.FloatTensor(vocab_size, embedding_dim))\n",
    "        self.context_embeddings = torch.nn.Parameter(torch.FloatTensor(vocab_size, embedding_dim))\n",
    "        \n",
    "        nn.init.normal_(self.item_embeddings)\n",
    "        nn.init.normal_(self.context_embeddings)\n",
    "   \n",
    "    def forward(self, x=None):     \n",
    "        return torch.matmul(self.item_embeddings, self.context_embeddings.t())"
   ]
  },
  {
   "cell_type": "code",
   "execution_count": 3,
   "metadata": {
    "id": "UUVUgt9Ie2f8"
   },
   "outputs": [],
   "source": [
    "#we need to make the special loss function for Skip Gram with Negative Sampling(SGNS)\n",
    "\n",
    "class SGNSLoss():\n",
    "    def __init__(self, Nij_matrix, Ni_vector, Nj_vector, N_scalar, num_neg_samples):\n",
    "        self.Nij_matrix = Nij_matrix\n",
    "        self.Ni_vector = Ni_vector\n",
    "        self.Nj_vector = Nj_vector\n",
    "        self.N_scalar = N_scalar\n",
    "        self.num_neg_samples = num_neg_samples\n",
    "        \n",
    "    def __call__(self, M_hat):\n",
    "        pos_samples = (self.Nij_matrix * nn.LogSigmoid()(M_hat)).sum()\n",
    "        \n",
    "        neg_samples = (self.num_neg_samples / self.N_scalar) * torch.matmul(\n",
    "            torch.matmul(self.Nj_vector.view(1, -1), nn.LogSigmoid()(-M_hat)),\n",
    "            self.Ni_vector.view(-1, 1)\n",
    "        ).sum()\n",
    "        \n",
    "        return -(pos_samples + neg_samples) / self.N_scalar\n"
   ]
  },
  {
   "cell_type": "code",
   "execution_count": 4,
   "metadata": {
    "id": "4ChTZkvre8jB"
   },
   "outputs": [],
   "source": [
    "# Load df\n",
    "\n",
    "def download_extract_zip(file_name):\n",
    "    with zipfile.ZipFile(file_name, 'r') as thezip:\n",
    "        for zipinfo in thezip.infolist():\n",
    "            with thezip.open(zipinfo) as thefile:\n",
    "                return pd.read_csv(\n",
    "                    thefile, \n",
    "                    sep=' ', \n",
    "                    header=None, \n",
    "                    names=['term', 'context', 'Nij']\n",
    "                )\n",
    "\n",
    "df = download_extract_zip('data/cooc.zip')\n"
   ]
  },
  {
   "cell_type": "code",
   "execution_count": 5,
   "metadata": {},
   "outputs": [
    {
     "data": {
      "text/html": [
       "<div>\n",
       "<style scoped>\n",
       "    .dataframe tbody tr th:only-of-type {\n",
       "        vertical-align: middle;\n",
       "    }\n",
       "\n",
       "    .dataframe tbody tr th {\n",
       "        vertical-align: top;\n",
       "    }\n",
       "\n",
       "    .dataframe thead th {\n",
       "        text-align: right;\n",
       "    }\n",
       "</style>\n",
       "<table border=\"1\" class=\"dataframe\">\n",
       "  <thead>\n",
       "    <tr style=\"text-align: right;\">\n",
       "      <th></th>\n",
       "      <th>term</th>\n",
       "      <th>context</th>\n",
       "      <th>Nij</th>\n",
       "    </tr>\n",
       "  </thead>\n",
       "  <tbody>\n",
       "    <tr>\n",
       "      <th>0</th>\n",
       "      <td>chief</td>\n",
       "      <td>peace</td>\n",
       "      <td>2072.8</td>\n",
       "    </tr>\n",
       "    <tr>\n",
       "      <th>1</th>\n",
       "      <td>produces</td>\n",
       "      <td>venezuela</td>\n",
       "      <td>109.4</td>\n",
       "    </tr>\n",
       "    <tr>\n",
       "      <th>2</th>\n",
       "      <td>resources</td>\n",
       "      <td>?</td>\n",
       "      <td>411.2</td>\n",
       "    </tr>\n",
       "    <tr>\n",
       "      <th>3</th>\n",
       "      <td>israelis</td>\n",
       "      <td>later</td>\n",
       "      <td>196.2</td>\n",
       "    </tr>\n",
       "    <tr>\n",
       "      <th>4</th>\n",
       "      <td>however</td>\n",
       "      <td>list</td>\n",
       "      <td>1395.2</td>\n",
       "    </tr>\n",
       "  </tbody>\n",
       "</table>\n",
       "</div>"
      ],
      "text/plain": [
       "        term    context     Nij\n",
       "0      chief      peace  2072.8\n",
       "1   produces  venezuela   109.4\n",
       "2  resources          ?   411.2\n",
       "3   israelis      later   196.2\n",
       "4    however       list  1395.2"
      ]
     },
     "execution_count": 5,
     "metadata": {},
     "output_type": "execute_result"
    }
   ],
   "source": [
    "df.head()"
   ]
  },
  {
   "cell_type": "code",
   "execution_count": 6,
   "metadata": {
    "id": "yzpcrDNJfB6P"
   },
   "outputs": [],
   "source": [
    "#Load the data from the dataframe\n",
    "vocab = {\"<unk>\": 0}\n",
    "inverse_vocab = [\"<unk>\"]\n",
    "\n",
    "# count for words\n",
    "counts = defaultdict(float)\n",
    "\n",
    "for row in df.itertuples():\n",
    "    counts[row.term] += row.Nij\n",
    "\n",
    "for word in sorted(counts.keys(), key=lambda x: -counts[x]):\n",
    "    inverse_vocab.append(word)\n",
    "    vocab[word] = len(vocab)\n",
    "\n",
    "vocab_size = len(vocab)\n",
    "\n",
    "# Given the vocabulary mapping above, we now fill in the Nij matrix.\n",
    "# with large vocabs, this should be done using a *sparse* matrix!!!\n",
    "Nij_np = np.zeros((vocab_size, vocab_size))\n",
    "for row in df.itertuples():\n",
    "    i = vocab[row.term]\n",
    "    j = vocab[row.context]\n",
    "    Nij_np[i, j] = row.Nij"
   ]
  },
  {
   "cell_type": "code",
   "execution_count": 7,
   "metadata": {},
   "outputs": [
    {
     "data": {
      "text/plain": [
       "(0.0, 0.0)"
      ]
     },
     "execution_count": 7,
     "metadata": {},
     "output_type": "execute_result"
    }
   ],
   "source": [
    "Nij_np[0, 1], Nij_np[1, 0]"
   ]
  },
  {
   "cell_type": "code",
   "execution_count": 8,
   "metadata": {},
   "outputs": [],
   "source": [
    "Nij = torch.tensor(Nij_np, dtype=torch.float32)\n",
    "# marginalize to get the unigram counts\n",
    "N_scalar = Nij.sum()\n",
    "\n",
    "# col sums\n",
    "Ni_vector = Nij.sum(axis=0)\n",
    "\n",
    "# row sum\n",
    "Nj_vector = Nij.sum(axis=1)"
   ]
  },
  {
   "cell_type": "code",
   "execution_count": 9,
   "metadata": {
    "id": "7zr8FsaNfDz9"
   },
   "outputs": [],
   "source": [
    "PMI_np_check = np.array(torch.log((N_scalar * Nij) / (torch.einsum('i,j->ij', Ni_vector, Nj_vector))))\n",
    "PMI_np = np.array(torch.log(\n",
    "    (N_scalar * Nij) / (Ni_vector.repeat(vocab_size).view(vocab_size, -1).t() * Nj_vector.repeat(vocab_size).view(vocab_size, -1))\n",
    "))"
   ]
  },
  {
   "cell_type": "code",
   "execution_count": 10,
   "metadata": {},
   "outputs": [
    {
     "data": {
      "text/plain": [
       "(5000, 5000)"
      ]
     },
     "execution_count": 10,
     "metadata": {},
     "output_type": "execute_result"
    }
   ],
   "source": [
    "PMI_np.shape"
   ]
  },
  {
   "cell_type": "code",
   "execution_count": 11,
   "metadata": {},
   "outputs": [
    {
     "data": {
      "text/plain": [
       "array([[            nan,             nan,             nan,\n",
       "                    nan,             nan,             nan,\n",
       "                    nan,             nan,             nan,\n",
       "                    nan],\n",
       "       [            nan, -5.36919117e-01, -1.70461938e-01,\n",
       "         1.05970308e-01,  5.60740709e-01, -1.01701491e-01,\n",
       "         1.91416904e-01, -1.25242188e-03, -6.63214624e-01,\n",
       "        -2.40376100e-01],\n",
       "       [            nan, -1.75313801e-01,  3.23851295e-02,\n",
       "        -4.50757772e-01, -2.05254287e-01,  2.62530386e-01,\n",
       "        -3.19996998e-02, -3.66229177e-01, -5.96894175e-02,\n",
       "         4.05826479e-01],\n",
       "       [            nan,  1.02108844e-01, -4.51396912e-01,\n",
       "        -2.41316795e+00, -2.00548172e-01, -2.55446255e-01,\n",
       "         1.30052134e-01, -2.97491431e-01, -1.48173913e-01,\n",
       "         4.17942315e-01],\n",
       "       [            nan,  5.56047380e-01, -2.05545306e-01,\n",
       "        -1.97631210e-01, -5.35332441e-01, -7.04754367e-02,\n",
       "        -2.46024087e-01, -5.71426868e-01,  2.05666110e-01,\n",
       "        -3.73680472e-01],\n",
       "       [            nan, -1.06265150e-01,  2.61885911e-01,\n",
       "        -2.55074561e-01, -7.14485049e-02, -5.97423196e-01,\n",
       "        -1.01987451e-01, -1.79848790e-01, -1.58685133e-01,\n",
       "        -2.17338532e-01],\n",
       "       [            nan,  1.82371661e-01, -3.44502591e-02,\n",
       "         1.29411966e-01, -2.49730870e-01, -1.05460882e-01,\n",
       "        -5.94379485e-01, -4.24547344e-01,  7.76244625e-02,\n",
       "        -3.47140223e-01],\n",
       "       [            nan, -9.26746428e-03, -3.68492603e-01,\n",
       "        -2.98928499e-01, -5.76026976e-01, -1.83136225e-01,\n",
       "        -4.24453020e-01, -4.18021023e-01, -1.75395384e-02,\n",
       "        -5.86543798e-01],\n",
       "       [            nan, -6.52809441e-01, -4.95732799e-02,\n",
       "        -1.31390378e-01,  2.21398711e-01, -1.46522373e-01,\n",
       "         1.08330935e-01, -3.89259704e-03, -6.05012417e-01,\n",
       "        -2.21639723e-01],\n",
       "       [            nan, -2.45210215e-01,  4.06333834e-01,\n",
       "         4.18527007e-01, -3.73794109e-01, -2.16730416e-01,\n",
       "        -3.43801826e-01, -5.84470689e-01, -2.27055207e-01,\n",
       "         1.00930810e-01]], dtype=float32)"
      ]
     },
     "execution_count": 11,
     "metadata": {},
     "output_type": "execute_result"
    }
   ],
   "source": [
    "PMI_np[:10, :10]"
   ]
  },
  {
   "cell_type": "code",
   "execution_count": 12,
   "metadata": {
    "colab": {
     "base_uri": "https://localhost:8080/",
     "height": 612
    },
    "id": "qTJ6-Urun-_G",
    "outputId": "abb1ab5d-380d-481c-e68b-5b37389eba72"
   },
   "outputs": [
    {
     "name": "stdout",
     "output_type": "stream",
     "text": [
      "Percent -infinities in the PMI matrix: 75.0882%\n"
     ]
    },
    {
     "name": "stdout",
     "output_type": "stream",
     "text": [
      "Statistics of PMIs: \n",
      "0.1405 mean, 1.0462 std\n"
     ]
    },
    {
     "name": "stderr",
     "output_type": "stream",
     "text": [
      "/var/folders/mx/41vmmjnx00z2pm2st2dnvjb40000gn/T/ipykernel_74932/3837492147.py:25: MatplotlibDeprecationWarning: The get_cmap function was deprecated in Matplotlib 3.7 and will be removed two minor releases later. Use ``matplotlib.colormaps[name]`` or ``matplotlib.colormaps.get_cmap(obj)`` instead.\n",
      "  cm = plt.cm.get_cmap(\"coolwarm\")\n"
     ]
    },
    {
     "data": {
      "image/png": "[encoded data removed]",
      "text/plain": [
       "<Figure size 640x480 with 2 Axes>"
      ]
     },
     "metadata": {},
     "output_type": "display_data"
    },
    {
     "data": {
      "image/png": "[encoded data removed]",
      "text/plain": [
       "<Figure size 640x480 with 1 Axes>"
      ]
     },
     "metadata": {},
     "output_type": "display_data"
    }
   ],
   "source": [
    "# Visualize the PMI matrix\n",
    "flat_PMI_np = PMI_np.reshape(-1)\n",
    "pmi_negativeinf = np.sum(flat_PMI_np == -np.inf)\n",
    "total = np.prod(PMI_np.shape)\n",
    "print('Percent -infinities in the PMI matrix: {:.4f}%'.format(\n",
    "    100 * pmi_negativeinf / total))\n",
    "\n",
    "_ = plt.figure()\n",
    "_ = plt.imshow(PMI_np, cmap=\"coolwarm\")\n",
    "_ = plt.xlabel(\"term index\")\n",
    "_ = plt.colorbar()\n",
    "\n",
    "PMI_np[PMI_np == -np.inf] = -4\n",
    "PMI_np[np.isnan(PMI_np)] = -4\n",
    "hist_pmis = flat_PMI_np[flat_PMI_np != -4]\n",
    "_ = plt.figure()\n",
    "n, bins, patches = plt.hist(hist_pmis, \n",
    "                            bins=100,              \n",
    "                            color=\"b\",\n",
    "                            alpha=1)\n",
    "print(\"Statistics of PMIs: \")\n",
    "print(\"{:0.4f} mean, {:0.4f} std\".format(np.mean(hist_pmis), \n",
    "                                         np.std(hist_pmis)))\n",
    "\n",
    "cm = plt.cm.get_cmap(\"coolwarm\")\n",
    "bin_centers = 0.5 * (bins[:-1] + bins[1:])\n",
    "col = bin_centers - min(bin_centers)\n",
    "col /= max(col)\n",
    "for c, p in zip(col, patches):\n",
    "    plt.setp(p, 'facecolor', cm(c))\n",
    "_ = plt.xlabel(\"PMI value\")\n",
    "_ = plt.ylabel(\"probability mass\")\n",
    "_ = plt.title(\"Histogram of PMIs (excluding -infinities)\")\n"
   ]
  },
  {
   "cell_type": "code",
   "execution_count": 13,
   "metadata": {
    "colab": {
     "base_uri": "https://localhost:8080/",
     "height": 340
    },
    "id": "lXPxYsVkwiOV",
    "outputId": "a98c309b-fb1e-4502-f2c2-4a160028d08e"
   },
   "outputs": [
    {
     "name": "stdout",
     "output_type": "stream",
     "text": [
      "--- Word pairs with the notable PMIs ---\n",
      "\n",
      "|        |              (PMI = 9.3956)\n",
      "puerto   rico           (PMI = 8.9212)\n",
      "rico     puerto         (PMI = 8.9182)\n",
      "las      vegas          (PMI = 8.7001)\n",
      "vegas    las            (PMI = 8.6940)\n",
      "bin      laden          (PMI = 8.3084)\n",
      "optional trim           (PMI = 8.3080)\n",
      "trim     optional       (PMI = 8.3073)\n",
      "laden    bin            (PMI = 8.2967)\n",
      "sri      lanka          (PMI = 8.1917)\n",
      "lanka    sri            (PMI = 8.1655)\n",
      "jacques  chirac         (PMI = 8.1147)\n",
      "chirac   jacques        (PMI = 8.0814)\n",
      "makeup   racial         (PMI = 8.0538)\n",
      "racial   makeup         (PMI = 8.0533)\n",
      "composite nasdaq         (PMI = 8.0391)\n",
      "nasdaq   composite      (PMI = 8.0328)\n"
     ]
    }
   ],
   "source": [
    "# look at the biggest PMIs\n",
    "sorted_indices = np.argsort(PMI_np, axis=None)\n",
    "\n",
    "print('--- Word pairs with the notable PMIs ---\\n')\n",
    "for i in range(1, 18):\n",
    "    idx = np.unravel_index(sorted_indices[-i], PMI_np.shape)\n",
    "    term, context = inverse_vocab[idx[0]], inverse_vocab[idx[1]]\n",
    "    print('{:8} {:14} (PMI = {:0.4f})'.format(term, context, float(PMI_np[idx])))"
   ]
  },
  {
   "cell_type": "code",
   "execution_count": 14,
   "metadata": {},
   "outputs": [],
   "source": [
    "# Create the object representing the loss function.\n",
    "criterion = SGNSLoss(\n",
    "    Nij_matrix=Nij,\n",
    "    Ni_vector=Ni_vector,\n",
    "    Nj_vector=Nj_vector,\n",
    "    N_scalar=N_scalar,\n",
    "    num_neg_samples=1\n",
    ")\n",
    "\n",
    "embedding_dim = 50\n",
    "\n",
    "model = MatrixFactorizationModel(vocab_size, embedding_dim)\n",
    "\n",
    "optimizer = torch.optim.Adam(model.parameters(), lr=0.1)"
   ]
  },
  {
   "cell_type": "code",
   "execution_count": 15,
   "metadata": {},
   "outputs": [
    {
     "data": {
      "text/plain": [
       "torch.Size([])"
      ]
     },
     "execution_count": 15,
     "metadata": {},
     "output_type": "execute_result"
    }
   ],
   "source": [
    "criterion(model()).shape"
   ]
  },
  {
   "cell_type": "code",
   "execution_count": 16,
   "metadata": {},
   "outputs": [],
   "source": [
    "def train_step(model, optimizer, n=1000):\n",
    "    losses = []\n",
    "    optimizer.zero_grad()\n",
    "    M_hat = model()\n",
    "    loss = criterion(M_hat)\n",
    "    loss.backward()\n",
    "    optimizer.step()\n",
    "    return loss.item()\n"
   ]
  },
  {
   "cell_type": "code",
   "execution_count": 17,
   "metadata": {
    "id": "-M1u6d7lhX77"
   },
   "outputs": [],
   "source": [
    "# Grabs the most similar words to the current term. Scale the vectors and then do an inner product.\n",
    "def most_similar(term):\n",
    "    term_idx = vocab[term]\n",
    "    term_emb = model.item_embeddings[term_idx]\n",
    "    normalized_embeddings = model.item_embeddings.t() / torch.linalg.norm(model.item_embeddings, axis=1)\n",
    "    cosine_similarities = torch.matmul(term_emb.view(1, -1), normalized_embeddings)\n",
    "    similar_word_indices = torch.argsort(cosine_similarities, descending=True).view(-1)\n",
    "    return [inverse_vocab[idx] for idx in similar_word_indices[1:6]]"
   ]
  },
  {
   "cell_type": "code",
   "execution_count": 18,
   "metadata": {
    "colab": {
     "base_uri": "https://localhost:8080/",
     "height": 612
    },
    "id": "qeFvqnruhVYy",
    "outputId": "955fe350-971b-4e2c-95c1-f01a9528f805"
   },
   "outputs": [
    {
     "name": "stdout",
     "output_type": "stream",
     "text": [
      "\n",
      "step    0 - loss: 6.159705638885498 (1.7203 seconds)\n",
      "\t similar to \"money\": stock hunt dogs war sure\n",
      "\t similar to \"peace\": courts surprise saudi strong provide\n",
      "\n",
      "step   50 - loss: 1.3189924955368042 (74.8105 seconds)\n",
      "\t similar to \"money\": learn worry might manage fees\n",
      "\t similar to \"peace\": ties rescue democracy serbia coalition\n",
      "\n",
      "step  100 - loss: 1.2914180755615234 (72.1950 seconds)\n",
      "\t similar to \"money\": jobs pension pay fees customers\n",
      "\t similar to \"peace\": negotiations democracy peaceful dialogue implement\n",
      "\n",
      "step  150 - loss: 1.287269949913025 (72.4381 seconds)\n",
      "\t similar to \"money\": pension pay customers benefits jobs\n",
      "\t similar to \"peace\": peaceful dialogue democracy negotiations cooperation\n",
      "\n",
      "step  200 - loss: 1.2856804132461548 (71.0420 seconds)\n",
      "\t similar to \"money\": pension pay savings credit cash\n",
      "\t similar to \"peace\": peaceful dialogue accord democracy solution\n",
      "\n",
      "step  250 - loss: 1.2848703861236572 (70.6401 seconds)\n",
      "\t similar to \"money\": savings pension cash credit pay\n",
      "\t similar to \"peace\": peaceful accord dialogue cease-fire democracy\n",
      "\n",
      "step  300 - loss: 1.2843952178955078 (71.8701 seconds)\n",
      "\t similar to \"money\": cash savings credit pay pension\n",
      "\t similar to \"peace\": peaceful accord negotiations dialogue cease-fire\n",
      "\n",
      "step  350 - loss: 1.2840871810913086 (68.3326 seconds)\n",
      "\t similar to \"money\": cash savings credit pay pension\n",
      "\t similar to \"peace\": peaceful negotiations cease-fire dialogue accord\n",
      "\n",
      "step  400 - loss: 1.2838778495788574 (65.2831 seconds)\n",
      "\t similar to \"money\": cash savings credit pay paying\n",
      "\t similar to \"peace\": peaceful negotiations cease-fire cooperation dialogue\n",
      "\n",
      "step  450 - loss: 1.2837305068969727 (67.0711 seconds)\n",
      "\t similar to \"money\": cash savings credit pay payments\n",
      "\t similar to \"peace\": negotiations cooperation peaceful cease-fire dialogue\n",
      "\n",
      "step  500 - loss: 1.2836271524429321 (67.2187 seconds)\n",
      "\t similar to \"money\": cash savings credit pay payments\n",
      "\t similar to \"peace\": cooperation negotiations cease-fire dialogue accord\n",
      "\n",
      "Total time: 702.8672 seconds.\n"
     ]
    }
   ],
   "source": [
    "# Do the training\n",
    "import time\n",
    "\n",
    "start_time = time.process_time()\n",
    "epoch_start_time = time.process_time()\n",
    "results = []\n",
    "\n",
    "num_iterations = 500 + 1\n",
    "print_every = 50\n",
    "\n",
    "for i in range(num_iterations):\n",
    "    loss = train_step(model, optimizer)\n",
    "    results.append(loss)\n",
    "    if i % print_every == 0:\n",
    "        print('\\nstep {:4} - loss: {} ({:0.4f} seconds)'.format(\n",
    "            i, results[-1], time.process_time() - epoch_start_time))\n",
    "        print('\\t similar to \"money\": ' + \" \".join(most_similar(\"money\")))\n",
    "        print('\\t similar to \"peace\": ' + \" \".join(most_similar(\"peace\")))\n",
    "\n",
    "        epoch_start_time = time.process_time()\n",
    "        \n",
    "print('\\nTotal time: {:0.4f} seconds.'.format(time.process_time() - start_time))\n"
   ]
  },
  {
   "cell_type": "code",
   "execution_count": 19,
   "metadata": {
    "colab": {
     "base_uri": "https://localhost:8080/",
     "height": 283
    },
    "id": "4a8pjCQQmA8S",
    "outputId": "154ebfd0-d964-4608-89fa-30a928784f4e"
   },
   "outputs": [
    {
     "data": {
      "image/png": "[encoded data removed]",
      "text/plain": [
       "<Figure size 640x480 with 1 Axes>"
      ]
     },
     "metadata": {},
     "output_type": "display_data"
    }
   ],
   "source": [
    "# Visualize the loss over time\n",
    "x = np.array(list(range(len(results))))\n",
    "y = np.array(results)\n",
    "\n",
    "_ = plt.figure()\n",
    "_ = plt.plot(x, y, '--r', label=\"loss\")\n",
    "_ = plt.xlabel(\"Iteration\")\n",
    "_ = plt.ylabel(\"Loss value\")\n",
    "_ = plt.legend()"
   ]
  },
  {
   "cell_type": "code",
   "execution_count": 20,
   "metadata": {
    "colab": {
     "base_uri": "https://localhost:8080/",
     "height": 136
    },
    "id": "ixnafiNliM6k",
    "outputId": "0452683e-5b3e-46d5-d251-06f90b820c50"
   },
   "outputs": [
    {
     "name": "stdout",
     "output_type": "stream",
     "text": [
      "drive     : run stop catch turn fast\n",
      "america   : asia europe african asian japan\n",
      "east      : west southeast eastern northeast middle\n",
      "soviet    : communist russian polish turkish yugoslavia\n",
      "belgium   : austria finland hungary netherlands denmark\n",
      "brussels  : vienna paris rome munich taipei\n",
      "1914      : 1915 1917 1916 1920 1923\n"
     ]
    }
   ],
   "source": [
    "# manual qualitative inspection\n",
    "for w in [\"drive\", \"america\", \"east\", \"soviet\", \"belgium\", \"brussels\", \"1914\"]:\n",
    "    print(\"{:10}: {}\".format(w, \" \".join(most_similar(w))))"
   ]
  }
 ],
 "metadata": {
  "colab": {
   "provenance": []
  },
  "kernelspec": {
   "display_name": "Python 3 (ipykernel)",
   "language": "python",
   "name": "python3"
  },
  "language_info": {
   "codemirror_mode": {
    "name": "ipython",
    "version": 3
   },
   "file_extension": ".py",
   "mimetype": "text/x-python",
   "name": "python",
   "nbconvert_exporter": "python",
   "pygments_lexer": "ipython3",
   "version": "3.9.18"
  }
 },
 "nbformat": 4,
 "nbformat_minor": 1
}
