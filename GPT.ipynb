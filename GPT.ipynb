{
  "cells": [
    {
      "cell_type": "code",
      "execution_count": 1,
      "id": "9abce638",
      "metadata": {
        "id": "9abce638"
      },
      "outputs": [],
      "source": [
        "import torch\n",
        "import torch.nn as nn\n",
        "from torch.nn import functional as F"
      ]
    },
    {
      "cell_type": "code",
      "execution_count": 2,
      "id": "ef6a89db",
      "metadata": {},
      "outputs": [],
      "source": [
        "BATCH_SIZE = 64\n",
        "BLOCK_SIZE = 256\n",
        "MAX_ITERS = 5000\n",
        "EVAL_INTERVAL = 500\n",
        "LEARNING_RATE = 3e-4\n",
        "DEVICE = 'cuda' if torch.cuda.is_available() else 'cpu'\n",
        "EVAL_ITERS = 200\n",
        "MODEL_DIM = 96\n",
        "NUM_HEADS = 6\n",
        "NUM_LAYERS = 6 \n",
        "DROPOUT_PROB = 0.2\n"
      ]
    },
    {
      "cell_type": "code",
      "execution_count": 5,
      "id": "1930b1d3",
      "metadata": {
        "id": "1930b1d3"
      },
      "outputs": [],
      "source": [
        "with open('data/hemingway.txt',  'r', encoding='utf-8') as file:\n",
        "    corpus = file.read()\n",
        "\n",
        "chars = sorted(list(set(corpus)))\n",
        "VOCAB_SIZE = len(chars)\n",
        "char_to_idx = {ch: i for i, ch in enumerate(chars)}\n",
        "idx_to_char = {i: ch for i, ch in enumerate(chars)}\n"
      ]
    },
    {
      "cell_type": "code",
      "execution_count": 6,
      "id": "f3c75ee7",
      "metadata": {},
      "outputs": [],
      "source": [
        "def encode(string):\n",
        "    return [char_to_idx[c] for c in string]\n",
        "\n",
        "def decode(indices):\n",
        "    return ''.join([idx_to_char[i] for i in indices])"
      ]
    },
    {
      "cell_type": "code",
      "execution_count": 8,
      "id": "95a64d2e",
      "metadata": {},
      "outputs": [],
      "source": [
        "data = torch.tensor(encode(corpus), dtype=torch.long)\n",
        "split_idx = int(0.9 * len(data))\n",
        "train_data = data[:split_idx]\n",
        "val_data = data[split_idx:]"
      ]
    },
    {
      "cell_type": "code",
      "execution_count": 9,
      "id": "bade6f32",
      "metadata": {
        "id": "bade6f32"
      },
      "outputs": [],
      "source": [
        "# data loading                                                                                                                          \n",
        "def get_batch(split):\n",
        "    data = train_data if split == 'train' else val_data\n",
        "    indices = torch.randint(len(data) - BLOCK_SIZE, (BATCH_SIZE,))\n",
        "    x = torch.stack([data[i:i+BLOCK_SIZE] for i in indices])\n",
        "    y = torch.stack([data[i+1:i+BLOCK_SIZE+1] for i in indices])\n",
        "    x, y = x.to(DEVICE), y.to(DEVICE)\n",
        "    return x, y\n"
      ]
    },
    {
      "cell_type": "code",
      "execution_count": 10,
      "id": "938086a6",
      "metadata": {
        "id": "938086a6"
      },
      "outputs": [],
      "source": [
        "@torch.no_grad()\n",
        "def estimate_loss(model):\n",
        "    results = {}\n",
        "    model.eval()\n",
        "    for split in ['train', 'val']:\n",
        "        losses = torch.zeros(EVAL_ITERS)\n",
        "        for k in range(EVAL_ITERS):\n",
        "            x, y = get_batch(split)\n",
        "            _, loss = model(x, y)\n",
        "            losses[k] = loss.item()\n",
        "        results[split] = losses.mean()\n",
        "    model.train()\n",
        "    return results\n"
      ]
    },
    {
      "cell_type": "code",
      "execution_count": 11,
      "id": "10e26176",
      "metadata": {
        "id": "10e26176"
      },
      "outputs": [],
      "source": [
        "class Head(nn.Module):\n",
        "    \"\"\" use one head self-attention \"\"\"\n",
        "\n",
        "    def __init__(self, head_dim):\n",
        "        super().__init__()\n",
        "        self.W_K = nn.Linear(MODEL_DIM, head_dim, bias=False)\n",
        "        self.W_Q = nn.Linear(MODEL_DIM, head_dim, bias=False)\n",
        "        self.W_V = nn.Linear(MODEL_DIM, head_dim, bias=False)\n",
        "        self.register_buffer('tril', torch.tril(torch.ones(BLOCK_SIZE, BLOCK_SIZE)))\n",
        "\n",
        "        self.dropout = nn.Dropout(DROPOUT_PROB)\n",
        "\n",
        "    def forward(self, x):\n",
        "        # (B, T, d_model)\n",
        "        B, T, d = x.shape\n",
        "        k = self.W_K(x)\n",
        "        q = self.W_Q(x)                                                                                             \n",
        "        # compute attention scores\n",
        "        \n",
        "        scores = q @ k.transpose(-2, -1) * d**-0.5                                          \n",
        "        scores = scores.masked_fill(self.tril[:T, :T] == 0, float('-inf'))                                                    \n",
        "        a = F.softmax(scores, dim=-1)                                                                                        \n",
        "        a = self.dropout(a)\n",
        "\n",
        "        # perform the weighted aggregation of the values   \n",
        "                                                                                     \n",
        "        v = self.W_V(x)                                                                                                   \n",
        "        out = a @ v\n",
        "        \n",
        "        return out\n",
        "\n",
        "class MultiHeadAttention(nn.Module):\n",
        "    \"\"\" multiple heads self-attention in parallel \"\"\"\n",
        "\n",
        "    def __init__(self, num_heads, head_dim):\n",
        "        super().__init__()\n",
        "        self.heads = nn.ModuleList([Head(head_dim) for _ in range(num_heads)])\n",
        "        self.proj = nn.Linear(MODEL_DIM, MODEL_DIM)\n",
        "        self.dropout = nn.Dropout(DROPOUT_PROB)\n",
        "\n",
        "    def forward(self, x):\n",
        "        # Concatenate the different representations per head.\n",
        "        out = torch.cat([h(x) for h in self.heads], dim=-1)\n",
        "        # Project the concatenation.\n",
        "        out = self.dropout(self.proj(out))\n",
        "        return out\n"
      ]
    },
    {
      "cell_type": "code",
      "execution_count": 14,
      "id": "XdEtmrPm7ZCD",
      "metadata": {
        "id": "XdEtmrPm7ZCD"
      },
      "outputs": [],
      "source": [
        "# A simple linear layer followed by a non-linearity; this is applied at the token level.\n",
        "class FeedForward(nn.Module):\n",
        "\n",
        "    def __init__(self, d_model):\n",
        "        super().__init__()\n",
        "        d_ff = 4 * d_model\n",
        "        self.ff = nn.Sequential(\n",
        "            nn.Linear(d_model, d_ff),\n",
        "            nn.ReLU(),\n",
        "            nn.Linear(d_ff, d_model),\n",
        "            nn.Dropout(DROPOUT_PROB),\n",
        "        )\n",
        "\n",
        "    def forward(self, x):\n",
        "        return self.ff(x)"
      ]
    },
    {
      "cell_type": "code",
      "execution_count": 15,
      "id": "ddb29049",
      "metadata": {
        "id": "ddb29049"
      },
      "outputs": [],
      "source": [
        "# Transformer decoder block\n",
        "\n",
        "class DecoderBlock(nn.Module):\n",
        "\n",
        "    def __init__(self, d_model, n_head):\n",
        "        super().__init__()\n",
        "        d_head = d_model // n_head\n",
        "        self.sa = MultiHeadAttention(n_head, d_head)\n",
        "        self.ff = FeedForward(d_model)\n",
        "        self.ln1 = nn.LayerNorm(d_model)\n",
        "        self.ln2 = nn.LayerNorm(d_model)\n",
        "\n",
        "    def forward(self, x):\n",
        "        x = x + self.sa(self.ln1(x))\n",
        "        x = x + self.ff(self.ln2(x))\n",
        "        return x\n"
      ]
    },
    {
      "cell_type": "code",
      "execution_count": 16,
      "id": "5c230527",
      "metadata": {
        "id": "5c230527"
      },
      "outputs": [],
      "source": [
        "class GPT(nn.Module):\n",
        "    def __init__(self):\n",
        "        super().__init__()\n",
        "        # each token directly reads off the logits for the next token from a lookup table                                                                                                                                                                                                                                                                                                                                                                                                                                                            \n",
        "        self.token_embedding_table = nn.Embedding(VOCAB_SIZE, MODEL_DIM)\n",
        "        self.position_embedding_table = nn.Embedding(BLOCK_SIZE, MODEL_DIM)\n",
        "        self.blocks = nn.Sequential(\n",
        "            *[DecoderBlock(MODEL_DIM, n_head=NUM_HEADS) for _ in range(NUM_LAYERS)]\n",
        "        )\n",
        "         # final layer norm   \n",
        "        self.ln = nn.LayerNorm(MODEL_DIM)\n",
        "        self.ff = nn.Linear(MODEL_DIM, VOCAB_SIZE)\n",
        "\n",
        "    def forward(self, idx, targets=None):\n",
        "        B, T = idx.shape\n",
        "\n",
        "        tok_emb = self.token_embedding_table(idx)\n",
        "        pos_emb = self.position_embedding_table(torch.arange(T, device=DEVICE))\n",
        "        # Add positional encodings.\n",
        "        x = tok_emb + pos_emb\n",
        "\n",
        "        # Mix up the token representations over and over via the blocks\n",
        "        x = self.blocks(x)\n",
        "        x = self.ln(x)\n",
        "        logits = self.ff(x)                                                                                                                                                                                                                                                                                                                                                                                                                                                                                                 \n",
        "\n",
        "        if targets is None:\n",
        "            loss = None\n",
        "        else:\n",
        "            B, T, C = logits.shape\n",
        "            logits = logits.view(B*T, C)\n",
        "            targets = targets.view(B*T)\n",
        "            loss = F.cross_entropy(logits, targets)\n",
        "\n",
        "        return logits, loss\n",
        "\n",
        "    def generate(self, idx, max_new_tokens):\n",
        "\n",
        "        self.eval()\n",
        "        for _ in range(max_new_tokens):\n",
        "            # crop idx to the last block_size tokens\n",
        "            idx_cond = idx[:, -BLOCK_SIZE:]\n",
        "            # get the predictions\n",
        "            logits, _ = self(idx_cond)\n",
        "            # focus only on the last time step                                                                                                                                                                                                                                                                                                                                                                                                                                                                                                       \n",
        "            logits = logits[:, -1, :]                                                                                                                                                                                                                                                                                                                                                                                                                                                                                             \n",
        "            # apply softmax                                                                                                                                                                                                                                                                                                                                                                                                                                                                                          \n",
        "            probs = F.softmax(logits, dim=-1)                                                                                                                                                                                                                                                                                                                                                                                                                                                                                            \n",
        "            # sample from the distribution                                                                                                                                                                                                                                                                                                                                                                                                                                                                                                           \n",
        "            idx_next = torch.multinomial(probs, num_samples=1)                                                                                                                                                                                                                                                                                                                                                                                                                                                                            \n",
        "            # append sampled index to the sequence                                                                                                                                                                                                                                                                                                                                                                                                                                                                                           \n",
        "            idx = torch.cat((idx, idx_next), dim=1) \n",
        "        self.train()                                                                                                                                                                                                                                                                                                                                                                                                                                                                                   \n",
        "        return idx"
      ]
    },
    {
      "cell_type": "code",
      "execution_count": 17,
      "id": "ThiIDDj1gWse",
      "metadata": {
        "id": "ThiIDDj1gWse"
      },
      "outputs": [],
      "source": [
        "class EarlyStopping:\n",
        "    def __init__(self, tolerance=5, min_delta=0):\n",
        "        self.tolerance = tolerance\n",
        "        self.min_delta = min_delta\n",
        "        self.counter = 0\n",
        "        self.early_stop = False\n",
        "\n",
        "    def __call__(self, train_loss, validation_loss):\n",
        "        if (validation_loss - train_loss) / train_loss > self.min_delta:\n",
        "            self.counter += 1\n",
        "            if self.counter >= self.tolerance:\n",
        "                self.early_stop = True"
      ]
    },
    {
      "cell_type": "code",
      "execution_count": 18,
      "id": "2bddbbe2",
      "metadata": {},
      "outputs": [
        {
          "name": "stdout",
          "output_type": "stream",
          "text": [
            "0.706046 M parameters\n"
          ]
        }
      ],
      "source": [
        "model = GPT().to(DEVICE)\n",
        "print(sum(p.numel() for p in model.parameters()) / 1e6, 'M parameters')\n",
        "\n",
        "optimizer = torch.optim.AdamW(model.parameters(), lr=LEARNING_RATE)\n",
        "scheduler = torch.optim.lr_scheduler.StepLR(optimizer, 1, gamma=0.9)\n",
        "early_stopping = EarlyStopping(tolerance=1, min_delta=0.2)"
      ]
    },
    {
      "cell_type": "code",
      "execution_count": 19,
      "id": "sJu3FQkBqT_o",
      "metadata": {
        "colab": {
          "base_uri": "https://localhost:8080/",
          "height": 407
        },
        "id": "sJu3FQkBqT_o",
        "outputId": "e86e23a8-6bc0-410c-c544-8114167eac54"
      },
      "outputs": [
        {
          "name": "stdout",
          "output_type": "stream",
          "text": [
            "step 0: train loss 4.3438, val loss 4.3537\n"
          ]
        },
        {
          "ename": "KeyboardInterrupt",
          "evalue": "",
          "output_type": "error",
          "traceback": [
            "\u001b[0;31m---------------------------------------------------------------------------\u001b[0m",
            "\u001b[0;31mKeyboardInterrupt\u001b[0m                         Traceback (most recent call last)",
            "Cell \u001b[0;32mIn[19], line 15\u001b[0m\n\u001b[1;32m     13\u001b[0m logits, loss \u001b[38;5;241m=\u001b[39m model(xb, yb)\n\u001b[1;32m     14\u001b[0m optimizer\u001b[38;5;241m.\u001b[39mzero_grad(set_to_none\u001b[38;5;241m=\u001b[39m\u001b[38;5;28;01mTrue\u001b[39;00m)\n\u001b[0;32m---> 15\u001b[0m \u001b[43mloss\u001b[49m\u001b[38;5;241;43m.\u001b[39;49m\u001b[43mbackward\u001b[49m\u001b[43m(\u001b[49m\u001b[43m)\u001b[49m\n\u001b[1;32m     16\u001b[0m optimizer\u001b[38;5;241m.\u001b[39mstep()\n",
            "File \u001b[0;32m~/opt/anaconda3/envs/ML/lib/python3.9/site-packages/torch/_tensor.py:522\u001b[0m, in \u001b[0;36mTensor.backward\u001b[0;34m(self, gradient, retain_graph, create_graph, inputs)\u001b[0m\n\u001b[1;32m    512\u001b[0m \u001b[38;5;28;01mif\u001b[39;00m has_torch_function_unary(\u001b[38;5;28mself\u001b[39m):\n\u001b[1;32m    513\u001b[0m     \u001b[38;5;28;01mreturn\u001b[39;00m handle_torch_function(\n\u001b[1;32m    514\u001b[0m         Tensor\u001b[38;5;241m.\u001b[39mbackward,\n\u001b[1;32m    515\u001b[0m         (\u001b[38;5;28mself\u001b[39m,),\n\u001b[0;32m   (...)\u001b[0m\n\u001b[1;32m    520\u001b[0m         inputs\u001b[38;5;241m=\u001b[39minputs,\n\u001b[1;32m    521\u001b[0m     )\n\u001b[0;32m--> 522\u001b[0m \u001b[43mtorch\u001b[49m\u001b[38;5;241;43m.\u001b[39;49m\u001b[43mautograd\u001b[49m\u001b[38;5;241;43m.\u001b[39;49m\u001b[43mbackward\u001b[49m\u001b[43m(\u001b[49m\n\u001b[1;32m    523\u001b[0m \u001b[43m    \u001b[49m\u001b[38;5;28;43mself\u001b[39;49m\u001b[43m,\u001b[49m\u001b[43m \u001b[49m\u001b[43mgradient\u001b[49m\u001b[43m,\u001b[49m\u001b[43m \u001b[49m\u001b[43mretain_graph\u001b[49m\u001b[43m,\u001b[49m\u001b[43m \u001b[49m\u001b[43mcreate_graph\u001b[49m\u001b[43m,\u001b[49m\u001b[43m \u001b[49m\u001b[43minputs\u001b[49m\u001b[38;5;241;43m=\u001b[39;49m\u001b[43minputs\u001b[49m\n\u001b[1;32m    524\u001b[0m \u001b[43m\u001b[49m\u001b[43m)\u001b[49m\n",
            "File \u001b[0;32m~/opt/anaconda3/envs/ML/lib/python3.9/site-packages/torch/autograd/__init__.py:266\u001b[0m, in \u001b[0;36mbackward\u001b[0;34m(tensors, grad_tensors, retain_graph, create_graph, grad_variables, inputs)\u001b[0m\n\u001b[1;32m    261\u001b[0m     retain_graph \u001b[38;5;241m=\u001b[39m create_graph\n\u001b[1;32m    263\u001b[0m \u001b[38;5;66;03m# The reason we repeat the same comment below is that\u001b[39;00m\n\u001b[1;32m    264\u001b[0m \u001b[38;5;66;03m# some Python versions print out the first line of a multi-line function\u001b[39;00m\n\u001b[1;32m    265\u001b[0m \u001b[38;5;66;03m# calls in the traceback and some print out the last line\u001b[39;00m\n\u001b[0;32m--> 266\u001b[0m \u001b[43mVariable\u001b[49m\u001b[38;5;241;43m.\u001b[39;49m\u001b[43m_execution_engine\u001b[49m\u001b[38;5;241;43m.\u001b[39;49m\u001b[43mrun_backward\u001b[49m\u001b[43m(\u001b[49m\u001b[43m  \u001b[49m\u001b[38;5;66;43;03m# Calls into the C++ engine to run the backward pass\u001b[39;49;00m\n\u001b[1;32m    267\u001b[0m \u001b[43m    \u001b[49m\u001b[43mtensors\u001b[49m\u001b[43m,\u001b[49m\n\u001b[1;32m    268\u001b[0m \u001b[43m    \u001b[49m\u001b[43mgrad_tensors_\u001b[49m\u001b[43m,\u001b[49m\n\u001b[1;32m    269\u001b[0m \u001b[43m    \u001b[49m\u001b[43mretain_graph\u001b[49m\u001b[43m,\u001b[49m\n\u001b[1;32m    270\u001b[0m \u001b[43m    \u001b[49m\u001b[43mcreate_graph\u001b[49m\u001b[43m,\u001b[49m\n\u001b[1;32m    271\u001b[0m \u001b[43m    \u001b[49m\u001b[43minputs\u001b[49m\u001b[43m,\u001b[49m\n\u001b[1;32m    272\u001b[0m \u001b[43m    \u001b[49m\u001b[43mallow_unreachable\u001b[49m\u001b[38;5;241;43m=\u001b[39;49m\u001b[38;5;28;43;01mTrue\u001b[39;49;00m\u001b[43m,\u001b[49m\n\u001b[1;32m    273\u001b[0m \u001b[43m    \u001b[49m\u001b[43maccumulate_grad\u001b[49m\u001b[38;5;241;43m=\u001b[39;49m\u001b[38;5;28;43;01mTrue\u001b[39;49;00m\u001b[43m,\u001b[49m\n\u001b[1;32m    274\u001b[0m \u001b[43m\u001b[49m\u001b[43m)\u001b[49m\n",
            "\u001b[0;31mKeyboardInterrupt\u001b[0m: "
          ]
        }
      ],
      "source": [
        "for iter in range(MAX_ITERS):\n",
        "    if iter % EVAL_INTERVAL == 0 or iter == MAX_ITERS - 1:\n",
        "        if iter:\n",
        "            scheduler.step()\n",
        "        losses = estimate_loss(model)\n",
        "        print(f\"step {iter}: train loss {losses['train']:.4f}, val loss {losses['val']:.4f}\")\n",
        "        early_stopping(losses['train'], losses['val'])\n",
        "        if early_stopping.early_stop:\n",
        "            print(f\"Early stopping at iteration {iter}\")\n",
        "            break\n",
        "\n",
        "    xb, yb = get_batch('train')\n",
        "    logits, loss = model(xb, yb)\n",
        "    optimizer.zero_grad(set_to_none=True)\n",
        "    loss.backward()\n",
        "    optimizer.step()\n"
      ]
    },
    {
      "cell_type": "code",
      "execution_count": null,
      "id": "2037f214",
      "metadata": {
        "id": "2037f214"
      },
      "outputs": [],
      "source": [
        "# Start the model with a new line\n",
        "context = torch.zeros((1, 1), dtype=torch.long, device=DEVICE)\n",
        "generated_text = decode(model.generate(context, max_new_tokens=100)[0].tolist())\n",
        "print(generated_text)                       "
      ]
    }
  ],
  "metadata": {
    "accelerator": "GPU",
    "colab": {
      "provenance": []
    },
    "gpuClass": "standard",
    "kernelspec": {
      "display_name": "Python 3 (ipykernel)",
      "language": "python",
      "name": "python3"
    },
    "language_info": {
      "codemirror_mode": {
        "name": "ipython",
        "version": 3
      },
      "file_extension": ".py",
      "mimetype": "text/x-python",
      "name": "python",
      "nbconvert_exporter": "python",
      "pygments_lexer": "ipython3",
      "version": "3.9.18"
    }
  },
  "nbformat": 4,
  "nbformat_minor": 5
}
