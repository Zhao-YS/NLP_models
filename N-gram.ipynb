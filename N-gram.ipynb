{
 "cells": [
  {
   "cell_type": "code",
   "execution_count": 1,
   "id": "5db00378",
   "metadata": {},
   "outputs": [],
   "source": [
    "import torch\n",
    "from torch.utils.data import DataLoader\n",
    "from torch.utils.data.dataset import random_split\n",
    "import torch.nn as nn\n",
    "from torch.utils.data import Dataset\n",
    "from torch.utils.data import DataLoader, TensorDataset\n",
    "import time\n",
    "from tqdm import tqdm"
   ]
  },
  {
   "cell_type": "code",
   "execution_count": 2,
   "id": "c9ace94f",
   "metadata": {},
   "outputs": [],
   "source": [
    "# Configurations\n",
    "device = \"cpu\"\n",
    "learning_rate = 4.0\n",
    "batch_size = 16\n",
    "num_epochs = 5\n",
    "marker = '.'\n",
    "ngram_level = 4\n",
    "hidden_dim = 20\n",
    "embedding_dim = 20"
   ]
  },
  {
   "cell_type": "code",
   "execution_count": 3,
   "id": "9c4dca3a",
   "metadata": {},
   "outputs": [],
   "source": [
    "# Create set & mappings\n",
    "class CharacterDataset(Dataset):\n",
    "    def __init__(self, words, characters):\n",
    "        self.words = words\n",
    "        self.characters = characters\n",
    "        # Mapping characters to indices and vice versa\n",
    "        self.char_to_idx = {ch: i for i, ch in enumerate(characters)}\n",
    "        self.idx_to_char = {i: s for s, i in self.char_to_idx.items()}\n",
    "\n",
    "    def __len__(self):\n",
    "        return len(self.words)\n",
    "\n",
    "    def contains(self, word):\n",
    "        return word in self.words\n",
    "\n",
    "    def get_vocab_size(self):\n",
    "        return len(self.characters)\n",
    "\n",
    "    def encode(self, word):\n",
    "        # Convert a word to a list of character indices\n",
    "        return [self.char_to_idx[c] for c in word]\n",
    "\n",
    "    def decode(self, tokens):\n",
    "        # Convert a list of character indices to a word\n",
    "        return ''.join(self.idx_to_char[i] for i in tokens)\n",
    "\n",
    "    def __getitem__(self, idx):\n",
    "        word = self.words[idx]\n",
    "        return self.encode(word)"
   ]
  },
  {
   "cell_type": "code",
   "execution_count": 4,
   "id": "32e480ba",
   "metadata": {},
   "outputs": [],
   "source": [
    "#load data and create datasets\n",
    "\n",
    "def load_datasets(window, input_file='data/names.txt'):\n",
    "    with open(input_file, 'r') as f:\n",
    "        data = f.read()\n",
    "    words = data.splitlines()\n",
    "    words = [w.strip() for w in words]\n",
    "    words = [w for w in words if w]\n",
    "\n",
    "    characters = sorted(list(set(''.join(words))))\n",
    "    characters = [marker] + characters\n",
    "\n",
    "    # Add marker characters to the beginning and end of each word\n",
    "    words = [''.join((window - 1) * [marker]) + word + ''.join((window - 1) * [marker]) for word in words]\n",
    "\n",
    "    print(f\"The number of examples in the dataset: {len(words)}\")\n",
    "    print(f\"The number of unique characters in the vocabulary: {len(characters)}\")\n",
    "    print(f\"The vocabulary we have is: {''.join(characters)}\")\n",
    "\n",
    "    # Split the dataset into training, validation, and test sets\n",
    "    out_of_sample_set_size = min(2000, int(len(words) * 0.1))\n",
    "    test_set_size = 1500\n",
    "\n",
    "    rp = torch.randperm(len(words)).tolist()\n",
    "\n",
    "    train_words = [words[i] for i in rp[:-out_of_sample_set_size]]\n",
    "    validation_words = [words[i] for i in rp[-out_of_sample_set_size:-test_set_size]]\n",
    "    test_words = [words[i] for i in rp[-test_set_size:]]\n",
    "\n",
    "    print(f\"We've split up the dataset into {len(train_words)}, {len(validation_words)}, {len(test_words)} training, validation, and test examples\")\n",
    "\n",
    "    train_dataset = CharacterDataset(train_words, characters)\n",
    "    validation_dataset = CharacterDataset(validation_words, characters)\n",
    "    test_dataset = CharacterDataset(test_words, characters)\n",
    "\n",
    "    return train_dataset, validation_dataset, test_dataset"
   ]
  },
  {
   "cell_type": "code",
   "execution_count": 5,
   "id": "8f7967c4",
   "metadata": {},
   "outputs": [],
   "source": [
    "def create_data_loader(dataset, window):\n",
    "    x_list = []\n",
    "    y_list = []\n",
    "    for i, word in enumerate(dataset):\n",
    "        for j, _ in enumerate(word):\n",
    "            if j + window > len(word) - 1:\n",
    "                break\n",
    "            word_window = word[j:j + window]\n",
    "            x, y = word_window[:-1], word_window[-1]\n",
    "            x_list.append(x)\n",
    "            y_list.append(y)\n",
    "\n",
    "    # Create a DataLoader with the input-output pairs\n",
    "    return DataLoader(\n",
    "        TensorDataset(torch.tensor(x_list), torch.tensor(y_list)),\n",
    "        batch_size,\n",
    "        shuffle=True\n",
    "    )"
   ]
  },
  {
   "cell_type": "code",
   "execution_count": 6,
   "id": "8ab8cb7c",
   "metadata": {},
   "outputs": [],
   "source": [
    "class NGramLanguageModel(nn.Module):\n",
    "    def __init__(self, vocab_size, embedding_dim, hidden_dim, ngram_level):\n",
    "        super(NGramLanguageModel, self).__init__()\n",
    "        self.vocab_size = vocab_size\n",
    "        self.embedding_dim = embedding_dim\n",
    "        self.hidden_dim = hidden_dim\n",
    "        self.ngram_level = ngram_level\n",
    "\n",
    "        self.embedding = nn.Embedding(vocab_size, embedding_dim)\n",
    "        self.hidden_layer = nn.Parameter(torch.zeros((ngram_level - 1) * embedding_dim, hidden_dim))\n",
    "        self.output_layer_W = nn.Parameter(torch.zeros((ngram_level - 1) * embedding_dim, vocab_size))\n",
    "        self.output_layer_U = nn.Parameter(torch.zeros(hidden_dim, vocab_size))\n",
    "\n",
    "        self.bias_output = torch.nn.Parameter(torch.ones(vocab_size))\n",
    "        self.bias_hidden = torch.nn.Parameter(torch.ones(hidden_dim))\n",
    "\n",
    "        self.init_weights()\n",
    "\n",
    "    def init_weights(self):\n",
    "        initrange = 0.5\n",
    "\n",
    "    def forward(self, x):\n",
    "        # Get character embeddings\n",
    "        x = self.embedding(x)\n",
    "\n",
    "        # Get the batch size\n",
    "        batch_size = x.shape[0]\n",
    "\n",
    "        # Reshape the input to a 2D tensor\n",
    "        x = x.view(batch_size, -1)\n",
    "\n",
    "        # Compute the output using the hidden and output layer parameters\n",
    "        y = self.bias_output + torch.matmul(x, self.output_layer_W) + torch.matmul(torch.tanh(self.bias_hidden + torch.matmul(x, self.hidden_layer)), self.output_layer_U)\n",
    "\n",
    "        return y"
   ]
  },
  {
   "cell_type": "code",
   "execution_count": 7,
   "id": "63d94e05",
   "metadata": {},
   "outputs": [],
   "source": [
    "def compute_perplexity(total_loss, total_batches):\n",
    "    # Compute the perplexity given the total loss and number of batches\n",
    "    return torch.exp(torch.tensor(total_loss / total_batches)).item()"
   ]
  },
  {
   "cell_type": "code",
   "execution_count": 8,
   "id": "02b8e0df",
   "metadata": {},
   "outputs": [],
   "source": [
    "#Set up model\n",
    "def train_model(data_loader, model, optimizer, criterion, epoch):\n",
    "    model.train()\n",
    "    total_loss, total_batches = 0.0, 0.0\n",
    "    log_interval = 500\n",
    "\n",
    "    for idx, (x, y) in tqdm(enumerate(data_loader)):\n",
    "        optimizer.zero_grad()\n",
    "\n",
    "        if not x.nelement():\n",
    "            continue\n",
    "\n",
    "        # Forward pass\n",
    "        logits = model(x)\n",
    "\n",
    "        # Compute the loss\n",
    "        loss = criterion(input=logits, target=y.squeeze(-1))\n",
    "        # Backward pass\n",
    "        loss.backward()\n",
    "\n",
    "        # Clip gradients to avoid exploding gradients\n",
    "        torch.nn.utils.clip_grad_norm_(model.parameters(), 0.1)\n",
    "        # Update the model parameters\n",
    "        optimizer.step()\n",
    "        total_loss += loss.item()\n",
    "        total_batches += 1\n",
    "\n",
    "        # Log the training progress\n",
    "        if idx % log_interval == 0 and idx > 0:\n",
    "            perplexity = compute_perplexity(total_loss, total_batches)\n",
    "            print(\n",
    "                \"| epoch {:3d} \"\n",
    "                \"| {:5d}/{:5d} batches \"\n",
    "                \"| perplexity {:8.3f} \"\n",
    "                \"| loss {:8.3f} \"\n",
    "                .format(\n",
    "                    epoch,\n",
    "                    idx,\n",
    "                    len(data_loader),\n",
    "                    perplexity,\n",
    "                    total_loss / total_batches,\n",
    "                )\n",
    "            )\n",
    "            total_loss, total_batches = 0.0, 0"
   ]
  },
  {
   "cell_type": "code",
   "execution_count": 9,
   "id": "83f7f597",
   "metadata": {},
   "outputs": [],
   "source": [
    "def evaluate_model(data_loader, model, criterion):\n",
    "    model.eval()\n",
    "    total_loss, total_batches = 0.0, 0\n",
    "\n",
    "    with torch.no_grad():\n",
    "        for idx, (x, y) in enumerate(data_loader):\n",
    "            # Forward pass\n",
    "            logits = model(x)\n",
    "            # Compute the loss\n",
    "            total_loss += criterion(input=logits, target=y.squeeze(-1)).item()\n",
    "            total_batches += 1\n",
    "    return total_loss / total_batches, compute_perplexity(total_loss, total_batches)"
   ]
  },
  {
   "cell_type": "code",
   "execution_count": 10,
   "id": "d58cc1a9",
   "metadata": {},
   "outputs": [],
   "source": [
    "def generate_word(model, dataset, window=ngram_level):\n",
    "    generated_word = []\n",
    "    context = [0] * (ngram_level - 1)\n",
    "\n",
    "    while True:\n",
    "        # Get the logits for the current context\n",
    "        logits = model(torch.tensor(context).view(1, -1))\n",
    "\n",
    "        # Convert logits to probabilities using softmax\n",
    "        probs = nn.Softmax(dim=1)(logits)\n",
    "\n",
    "        # Sample a character index based on the probabilities\n",
    "        token_id = torch.multinomial(probs, num_samples=1).item()\n",
    "\n",
    "        generated_word.append(token_id)\n",
    "\n",
    "        # Update the context with the generated character\n",
    "        context = context[1:] + [token_id]\n",
    "\n",
    "        # Stop generating if the end marker is encountered\n",
    "        if token_id == 0:\n",
    "            break\n",
    "\n",
    "    # Decode the generated character indices to a word\n",
    "    return ''.join(dataset.decode(generated_word))"
   ]
  },
  {
   "cell_type": "code",
   "execution_count": 11,
   "id": "85722617",
   "metadata": {},
   "outputs": [
    {
     "name": "stdout",
     "output_type": "stream",
     "text": [
      "The number of examples in the dataset: 32033\n",
      "The number of unique characters in the vocabulary: 27\n",
      "The vocabulary we have is: .abcdefghijklmnopqrstuvwxyz\n",
      "We've split up the dataset into 30033, 500, 1500 training, validation, and test examples\n"
     ]
    }
   ],
   "source": [
    "#Load Data\n",
    "train_dataset, validation_dataset, test_dataset = load_datasets(ngram_level)\n",
    "\n",
    "# Create data loaders\n",
    "train_loader = create_data_loader(train_dataset, ngram_level)\n",
    "validation_loader = create_data_loader(validation_dataset, ngram_level)\n",
    "test_loader = create_data_loader(test_dataset, ngram_level)"
   ]
  },
  {
   "cell_type": "code",
   "execution_count": 12,
   "id": "7f6c020a",
   "metadata": {},
   "outputs": [],
   "source": [
    "# Set up the model, loss function, and optimizer\n",
    "criterion = torch.nn.CrossEntropyLoss().to(device)\n",
    "model = NGramLanguageModel(\n",
    "    train_dataset.get_vocab_size(), embedding_dim, hidden_dim, ngram_level\n",
    ").to(device)\n",
    "optimizer = torch.optim.SGD(model.parameters(), lr=learning_rate)\n",
    "scheduler = torch.optim.lr_scheduler.StepLR(optimizer, 1.0, gamma=0.1)\n"
   ]
  },
  {
   "cell_type": "code",
   "execution_count": 13,
   "id": "21ba24f3",
   "metadata": {},
   "outputs": [
    {
     "name": "stderr",
     "output_type": "stream",
     "text": [
      "663it [00:00, 951.43it/s]"
     ]
    },
    {
     "name": "stdout",
     "output_type": "stream",
     "text": [
      "| epoch   1 |   500/15242 batches | perplexity    9.989 | loss    2.301 \n"
     ]
    },
    {
     "name": "stderr",
     "output_type": "stream",
     "text": [
      "1169it [00:01, 1215.90it/s]"
     ]
    },
    {
     "name": "stdout",
     "output_type": "stream",
     "text": [
      "| epoch   1 |  1000/15242 batches | perplexity    8.874 | loss    2.183 \n"
     ]
    },
    {
     "name": "stderr",
     "output_type": "stream",
     "text": [
      "1698it [00:01, 1274.74it/s]"
     ]
    },
    {
     "name": "stdout",
     "output_type": "stream",
     "text": [
      "| epoch   1 |  1500/15242 batches | perplexity    8.676 | loss    2.161 \n"
     ]
    },
    {
     "name": "stderr",
     "output_type": "stream",
     "text": [
      "2219it [00:02, 1239.78it/s]"
     ]
    },
    {
     "name": "stdout",
     "output_type": "stream",
     "text": [
      "| epoch   1 |  2000/15242 batches | perplexity    8.474 | loss    2.137 \n"
     ]
    },
    {
     "name": "stderr",
     "output_type": "stream",
     "text": [
      "2759it [00:02, 1329.60it/s]"
     ]
    },
    {
     "name": "stdout",
     "output_type": "stream",
     "text": [
      "| epoch   1 |  2500/15242 batches | perplexity    8.422 | loss    2.131 \n"
     ]
    },
    {
     "name": "stderr",
     "output_type": "stream",
     "text": [
      "3169it [00:02, 1348.99it/s]"
     ]
    },
    {
     "name": "stdout",
     "output_type": "stream",
     "text": [
      "| epoch   1 |  3000/15242 batches | perplexity    8.630 | loss    2.155 \n"
     ]
    },
    {
     "name": "stderr",
     "output_type": "stream",
     "text": [
      "3735it [00:03, 1373.46it/s]"
     ]
    },
    {
     "name": "stdout",
     "output_type": "stream",
     "text": [
      "| epoch   1 |  3500/15242 batches | perplexity    8.375 | loss    2.125 \n"
     ]
    },
    {
     "name": "stderr",
     "output_type": "stream",
     "text": [
      "4151it [00:03, 1373.38it/s]"
     ]
    },
    {
     "name": "stdout",
     "output_type": "stream",
     "text": [
      "| epoch   1 |  4000/15242 batches | perplexity    8.213 | loss    2.106 \n"
     ]
    },
    {
     "name": "stderr",
     "output_type": "stream",
     "text": [
      "4711it [00:03, 1380.69it/s]"
     ]
    },
    {
     "name": "stdout",
     "output_type": "stream",
     "text": [
      "| epoch   1 |  4500/15242 batches | perplexity    8.231 | loss    2.108 \n"
     ]
    },
    {
     "name": "stderr",
     "output_type": "stream",
     "text": [
      "5264it [00:04, 1353.43it/s]"
     ]
    },
    {
     "name": "stdout",
     "output_type": "stream",
     "text": [
      "| epoch   1 |  5000/15242 batches | perplexity    8.238 | loss    2.109 \n"
     ]
    },
    {
     "name": "stderr",
     "output_type": "stream",
     "text": [
      "5668it [00:04, 1328.94it/s]"
     ]
    },
    {
     "name": "stdout",
     "output_type": "stream",
     "text": [
      "| epoch   1 |  5500/15242 batches | perplexity    8.372 | loss    2.125 \n"
     ]
    },
    {
     "name": "stderr",
     "output_type": "stream",
     "text": [
      "6191it [00:05, 1267.53it/s]"
     ]
    },
    {
     "name": "stdout",
     "output_type": "stream",
     "text": [
      "| epoch   1 |  6000/15242 batches | perplexity    8.200 | loss    2.104 \n"
     ]
    },
    {
     "name": "stderr",
     "output_type": "stream",
     "text": [
      "6697it [00:05, 1207.04it/s]"
     ]
    },
    {
     "name": "stdout",
     "output_type": "stream",
     "text": [
      "| epoch   1 |  6500/15242 batches | perplexity    8.293 | loss    2.115 \n"
     ]
    },
    {
     "name": "stderr",
     "output_type": "stream",
     "text": [
      "7191it [00:05, 1204.62it/s]"
     ]
    },
    {
     "name": "stdout",
     "output_type": "stream",
     "text": [
      "| epoch   1 |  7000/15242 batches | perplexity    8.308 | loss    2.117 \n"
     ]
    },
    {
     "name": "stderr",
     "output_type": "stream",
     "text": [
      "7703it [00:06, 1261.07it/s]"
     ]
    },
    {
     "name": "stdout",
     "output_type": "stream",
     "text": [
      "| epoch   1 |  7500/15242 batches | perplexity    8.217 | loss    2.106 \n"
     ]
    },
    {
     "name": "stderr",
     "output_type": "stream",
     "text": [
      "8251it [00:06, 1359.65it/s]"
     ]
    },
    {
     "name": "stdout",
     "output_type": "stream",
     "text": [
      "| epoch   1 |  8000/15242 batches | perplexity    8.131 | loss    2.096 \n"
     ]
    },
    {
     "name": "stderr",
     "output_type": "stream",
     "text": [
      "8655it [00:07, 1303.93it/s]"
     ]
    },
    {
     "name": "stdout",
     "output_type": "stream",
     "text": [
      "| epoch   1 |  8500/15242 batches | perplexity    8.327 | loss    2.119 \n"
     ]
    },
    {
     "name": "stderr",
     "output_type": "stream",
     "text": [
      "9193it [00:07, 1320.02it/s]"
     ]
    },
    {
     "name": "stdout",
     "output_type": "stream",
     "text": [
      "| epoch   1 |  9000/15242 batches | perplexity    8.205 | loss    2.105 \n"
     ]
    },
    {
     "name": "stderr",
     "output_type": "stream",
     "text": [
      "9727it [00:07, 1254.52it/s]"
     ]
    },
    {
     "name": "stdout",
     "output_type": "stream",
     "text": [
      "| epoch   1 |  9500/15242 batches | perplexity    8.337 | loss    2.121 \n"
     ]
    },
    {
     "name": "stderr",
     "output_type": "stream",
     "text": [
      "10230it [00:08, 1190.28it/s]"
     ]
    },
    {
     "name": "stdout",
     "output_type": "stream",
     "text": [
      "| epoch   1 | 10000/15242 batches | perplexity    8.466 | loss    2.136 \n"
     ]
    },
    {
     "name": "stderr",
     "output_type": "stream",
     "text": [
      "10755it [00:08, 1271.69it/s]"
     ]
    },
    {
     "name": "stdout",
     "output_type": "stream",
     "text": [
      "| epoch   1 | 10500/15242 batches | perplexity    8.121 | loss    2.094 \n"
     ]
    },
    {
     "name": "stderr",
     "output_type": "stream",
     "text": [
      "11157it [00:09, 1317.34it/s]"
     ]
    },
    {
     "name": "stdout",
     "output_type": "stream",
     "text": [
      "| epoch   1 | 11000/15242 batches | perplexity    8.217 | loss    2.106 \n"
     ]
    },
    {
     "name": "stderr",
     "output_type": "stream",
     "text": [
      "11701it [00:09, 1314.82it/s]"
     ]
    },
    {
     "name": "stdout",
     "output_type": "stream",
     "text": [
      "| epoch   1 | 11500/15242 batches | perplexity    8.015 | loss    2.081 \n"
     ]
    },
    {
     "name": "stderr",
     "output_type": "stream",
     "text": [
      "12191it [00:09, 1033.81it/s]"
     ]
    },
    {
     "name": "stdout",
     "output_type": "stream",
     "text": [
      "| epoch   1 | 12000/15242 batches | perplexity    8.337 | loss    2.121 \n"
     ]
    },
    {
     "name": "stderr",
     "output_type": "stream",
     "text": [
      "12657it [00:10, 1120.45it/s]"
     ]
    },
    {
     "name": "stdout",
     "output_type": "stream",
     "text": [
      "| epoch   1 | 12500/15242 batches | perplexity    8.037 | loss    2.084 \n"
     ]
    },
    {
     "name": "stderr",
     "output_type": "stream",
     "text": [
      "13130it [00:10, 1122.35it/s]"
     ]
    },
    {
     "name": "stdout",
     "output_type": "stream",
     "text": [
      "| epoch   1 | 13000/15242 batches | perplexity    8.005 | loss    2.080 \n"
     ]
    },
    {
     "name": "stderr",
     "output_type": "stream",
     "text": [
      "13759it [00:11, 1270.45it/s]"
     ]
    },
    {
     "name": "stdout",
     "output_type": "stream",
     "text": [
      "| epoch   1 | 13500/15242 batches | perplexity    8.027 | loss    2.083 \n"
     ]
    },
    {
     "name": "stderr",
     "output_type": "stream",
     "text": [
      "14181it [00:11, 1362.95it/s]"
     ]
    },
    {
     "name": "stdout",
     "output_type": "stream",
     "text": [
      "| epoch   1 | 14000/15242 batches | perplexity    8.244 | loss    2.109 \n"
     ]
    },
    {
     "name": "stderr",
     "output_type": "stream",
     "text": [
      "14755it [00:12, 1356.30it/s]"
     ]
    },
    {
     "name": "stdout",
     "output_type": "stream",
     "text": [
      "| epoch   1 | 14500/15242 batches | perplexity    8.246 | loss    2.110 \n"
     ]
    },
    {
     "name": "stderr",
     "output_type": "stream",
     "text": [
      "15242it [00:12, 1231.27it/s]"
     ]
    },
    {
     "name": "stdout",
     "output_type": "stream",
     "text": [
      "| epoch   1 | 15000/15242 batches | perplexity    8.128 | loss    2.095 \n"
     ]
    },
    {
     "name": "stderr",
     "output_type": "stream",
     "text": [
      "\n"
     ]
    },
    {
     "name": "stdout",
     "output_type": "stream",
     "text": [
      "-----------------------------------------------------------\n",
      "| end of epoch   1 | time: 12.47s | valid perplexity    8.438 | valid loss    2.133\n",
      "-----------------------------------------------------------\n"
     ]
    },
    {
     "name": "stderr",
     "output_type": "stream",
     "text": [
      "696it [00:00, 1394.67it/s]"
     ]
    },
    {
     "name": "stdout",
     "output_type": "stream",
     "text": [
      "| epoch   2 |   500/15242 batches | perplexity    7.791 | loss    2.053 \n"
     ]
    },
    {
     "name": "stderr",
     "output_type": "stream",
     "text": [
      "1258it [00:00, 1392.25it/s]"
     ]
    },
    {
     "name": "stdout",
     "output_type": "stream",
     "text": [
      "| epoch   2 |  1000/15242 batches | perplexity    7.540 | loss    2.020 \n"
     ]
    },
    {
     "name": "stderr",
     "output_type": "stream",
     "text": [
      "1664it [00:01, 1247.44it/s]"
     ]
    },
    {
     "name": "stdout",
     "output_type": "stream",
     "text": [
      "| epoch   2 |  1500/15242 batches | perplexity    7.466 | loss    2.010 \n"
     ]
    },
    {
     "name": "stderr",
     "output_type": "stream",
     "text": [
      "2177it [00:01, 1251.57it/s]"
     ]
    },
    {
     "name": "stdout",
     "output_type": "stream",
     "text": [
      "| epoch   2 |  2000/15242 batches | perplexity    7.527 | loss    2.019 \n"
     ]
    },
    {
     "name": "stderr",
     "output_type": "stream",
     "text": [
      "2699it [00:02, 1237.90it/s]"
     ]
    },
    {
     "name": "stdout",
     "output_type": "stream",
     "text": [
      "| epoch   2 |  2500/15242 batches | perplexity    7.620 | loss    2.031 \n"
     ]
    },
    {
     "name": "stderr",
     "output_type": "stream",
     "text": [
      "3203it [00:02, 1241.42it/s]"
     ]
    },
    {
     "name": "stdout",
     "output_type": "stream",
     "text": [
      "| epoch   2 |  3000/15242 batches | perplexity    7.572 | loss    2.025 \n"
     ]
    },
    {
     "name": "stderr",
     "output_type": "stream",
     "text": [
      "3702it [00:02, 1156.41it/s]"
     ]
    },
    {
     "name": "stdout",
     "output_type": "stream",
     "text": [
      "| epoch   2 |  3500/15242 batches | perplexity    7.598 | loss    2.028 \n"
     ]
    },
    {
     "name": "stderr",
     "output_type": "stream",
     "text": [
      "4216it [00:03, 1190.84it/s]"
     ]
    },
    {
     "name": "stdout",
     "output_type": "stream",
     "text": [
      "| epoch   2 |  4000/15242 batches | perplexity    7.509 | loss    2.016 \n"
     ]
    },
    {
     "name": "stderr",
     "output_type": "stream",
     "text": [
      "4715it [00:03, 1230.86it/s]"
     ]
    },
    {
     "name": "stdout",
     "output_type": "stream",
     "text": [
      "| epoch   2 |  4500/15242 batches | perplexity    7.627 | loss    2.032 \n"
     ]
    },
    {
     "name": "stderr",
     "output_type": "stream",
     "text": [
      "5194it [00:04, 1142.23it/s]"
     ]
    },
    {
     "name": "stdout",
     "output_type": "stream",
     "text": [
      "| epoch   2 |  5000/15242 batches | perplexity    7.498 | loss    2.015 \n"
     ]
    },
    {
     "name": "stderr",
     "output_type": "stream",
     "text": [
      "5701it [00:04, 1227.31it/s]"
     ]
    },
    {
     "name": "stdout",
     "output_type": "stream",
     "text": [
      "| epoch   2 |  5500/15242 batches | perplexity    7.368 | loss    1.997 \n"
     ]
    },
    {
     "name": "stderr",
     "output_type": "stream",
     "text": [
      "6241it [00:05, 1319.34it/s]"
     ]
    },
    {
     "name": "stdout",
     "output_type": "stream",
     "text": [
      "| epoch   2 |  6000/15242 batches | perplexity    7.524 | loss    2.018 \n"
     ]
    },
    {
     "name": "stderr",
     "output_type": "stream",
     "text": [
      "6645it [00:05, 1312.06it/s]"
     ]
    },
    {
     "name": "stdout",
     "output_type": "stream",
     "text": [
      "| epoch   2 |  6500/15242 batches | perplexity    7.572 | loss    2.024 \n"
     ]
    },
    {
     "name": "stderr",
     "output_type": "stream",
     "text": [
      "7197it [00:05, 1280.95it/s]"
     ]
    },
    {
     "name": "stdout",
     "output_type": "stream",
     "text": [
      "| epoch   2 |  7000/15242 batches | perplexity    7.666 | loss    2.037 \n"
     ]
    },
    {
     "name": "stderr",
     "output_type": "stream",
     "text": [
      "7724it [00:06, 1285.54it/s]"
     ]
    },
    {
     "name": "stdout",
     "output_type": "stream",
     "text": [
      "| epoch   2 |  7500/15242 batches | perplexity    7.300 | loss    1.988 \n"
     ]
    },
    {
     "name": "stderr",
     "output_type": "stream",
     "text": [
      "8274it [00:06, 1368.14it/s]"
     ]
    },
    {
     "name": "stdout",
     "output_type": "stream",
     "text": [
      "| epoch   2 |  8000/15242 batches | perplexity    7.473 | loss    2.011 \n"
     ]
    },
    {
     "name": "stderr",
     "output_type": "stream",
     "text": [
      "8689it [00:06, 1296.87it/s]"
     ]
    },
    {
     "name": "stdout",
     "output_type": "stream",
     "text": [
      "| epoch   2 |  8500/15242 batches | perplexity    7.535 | loss    2.020 \n"
     ]
    },
    {
     "name": "stderr",
     "output_type": "stream",
     "text": [
      "9245it [00:07, 1346.99it/s]"
     ]
    },
    {
     "name": "stdout",
     "output_type": "stream",
     "text": [
      "| epoch   2 |  9000/15242 batches | perplexity    7.453 | loss    2.009 \n"
     ]
    },
    {
     "name": "stderr",
     "output_type": "stream",
     "text": [
      "9671it [00:07, 1397.29it/s]"
     ]
    },
    {
     "name": "stdout",
     "output_type": "stream",
     "text": [
      "| epoch   2 |  9500/15242 batches | perplexity    7.462 | loss    2.010 \n"
     ]
    },
    {
     "name": "stderr",
     "output_type": "stream",
     "text": [
      "10241it [00:08, 1407.26it/s]"
     ]
    },
    {
     "name": "stdout",
     "output_type": "stream",
     "text": [
      "| epoch   2 | 10000/15242 batches | perplexity    7.564 | loss    2.023 \n"
     ]
    },
    {
     "name": "stderr",
     "output_type": "stream",
     "text": [
      "10634it [00:08, 1189.31it/s]"
     ]
    },
    {
     "name": "stdout",
     "output_type": "stream",
     "text": [
      "| epoch   2 | 10500/15242 batches | perplexity    7.447 | loss    2.008 \n"
     ]
    },
    {
     "name": "stderr",
     "output_type": "stream",
     "text": [
      "11124it [00:08, 1187.09it/s]"
     ]
    },
    {
     "name": "stdout",
     "output_type": "stream",
     "text": [
      "| epoch   2 | 11000/15242 batches | perplexity    7.475 | loss    2.012 \n"
     ]
    },
    {
     "name": "stderr",
     "output_type": "stream",
     "text": [
      "11626it [00:09, 1194.93it/s]"
     ]
    },
    {
     "name": "stdout",
     "output_type": "stream",
     "text": [
      "| epoch   2 | 11500/15242 batches | perplexity    7.416 | loss    2.004 \n"
     ]
    },
    {
     "name": "stderr",
     "output_type": "stream",
     "text": [
      "12151it [00:09, 1296.62it/s]"
     ]
    },
    {
     "name": "stdout",
     "output_type": "stream",
     "text": [
      "| epoch   2 | 12000/15242 batches | perplexity    7.483 | loss    2.013 \n"
     ]
    },
    {
     "name": "stderr",
     "output_type": "stream",
     "text": [
      "12702it [00:10, 1360.41it/s]"
     ]
    },
    {
     "name": "stdout",
     "output_type": "stream",
     "text": [
      "| epoch   2 | 12500/15242 batches | perplexity    7.341 | loss    1.993 \n"
     ]
    },
    {
     "name": "stderr",
     "output_type": "stream",
     "text": [
      "13219it [00:10, 1228.01it/s]"
     ]
    },
    {
     "name": "stdout",
     "output_type": "stream",
     "text": [
      "| epoch   2 | 13000/15242 batches | perplexity    7.585 | loss    2.026 \n"
     ]
    },
    {
     "name": "stderr",
     "output_type": "stream",
     "text": [
      "13738it [00:10, 1282.67it/s]"
     ]
    },
    {
     "name": "stdout",
     "output_type": "stream",
     "text": [
      "| epoch   2 | 13500/15242 batches | perplexity    7.457 | loss    2.009 \n"
     ]
    },
    {
     "name": "stderr",
     "output_type": "stream",
     "text": [
      "14248it [00:11, 1233.46it/s]"
     ]
    },
    {
     "name": "stdout",
     "output_type": "stream",
     "text": [
      "| epoch   2 | 14000/15242 batches | perplexity    7.524 | loss    2.018 \n"
     ]
    },
    {
     "name": "stderr",
     "output_type": "stream",
     "text": [
      "14755it [00:11, 1244.41it/s]"
     ]
    },
    {
     "name": "stdout",
     "output_type": "stream",
     "text": [
      "| epoch   2 | 14500/15242 batches | perplexity    7.535 | loss    2.019 \n"
     ]
    },
    {
     "name": "stderr",
     "output_type": "stream",
     "text": [
      "15125it [00:12, 1191.13it/s]"
     ]
    },
    {
     "name": "stdout",
     "output_type": "stream",
     "text": [
      "| epoch   2 | 15000/15242 batches | perplexity    7.477 | loss    2.012 \n"
     ]
    },
    {
     "name": "stderr",
     "output_type": "stream",
     "text": [
      "15242it [00:12, 1255.74it/s]\n"
     ]
    },
    {
     "name": "stdout",
     "output_type": "stream",
     "text": [
      "-----------------------------------------------------------\n",
      "| end of epoch   2 | time: 12.20s | valid perplexity    7.647 | valid loss    2.034\n",
      "-----------------------------------------------------------\n"
     ]
    },
    {
     "name": "stderr",
     "output_type": "stream",
     "text": [
      "673it [00:00, 1375.25it/s]"
     ]
    },
    {
     "name": "stdout",
     "output_type": "stream",
     "text": [
      "| epoch   3 |   500/15242 batches | perplexity    7.638 | loss    2.033 \n"
     ]
    },
    {
     "name": "stderr",
     "output_type": "stream",
     "text": [
      "1223it [00:00, 1331.78it/s]"
     ]
    },
    {
     "name": "stdout",
     "output_type": "stream",
     "text": [
      "| epoch   3 |  1000/15242 batches | perplexity    7.353 | loss    1.995 \n"
     ]
    },
    {
     "name": "stderr",
     "output_type": "stream",
     "text": [
      "1764it [00:01, 1266.37it/s]"
     ]
    },
    {
     "name": "stdout",
     "output_type": "stream",
     "text": [
      "| epoch   3 |  1500/15242 batches | perplexity    7.414 | loss    2.003 \n"
     ]
    },
    {
     "name": "stderr",
     "output_type": "stream",
     "text": [
      "2158it [00:01, 1290.33it/s]"
     ]
    },
    {
     "name": "stdout",
     "output_type": "stream",
     "text": [
      "| epoch   3 |  2000/15242 batches | perplexity    7.311 | loss    1.989 \n"
     ]
    },
    {
     "name": "stderr",
     "output_type": "stream",
     "text": [
      "2696it [00:02, 1317.93it/s]"
     ]
    },
    {
     "name": "stdout",
     "output_type": "stream",
     "text": [
      "| epoch   3 |  2500/15242 batches | perplexity    7.334 | loss    1.993 \n"
     ]
    },
    {
     "name": "stderr",
     "output_type": "stream",
     "text": [
      "3242it [00:02, 1350.00it/s]"
     ]
    },
    {
     "name": "stdout",
     "output_type": "stream",
     "text": [
      "| epoch   3 |  3000/15242 batches | perplexity    7.481 | loss    2.012 \n"
     ]
    },
    {
     "name": "stderr",
     "output_type": "stream",
     "text": [
      "3648it [00:02, 1276.55it/s]"
     ]
    },
    {
     "name": "stdout",
     "output_type": "stream",
     "text": [
      "| epoch   3 |  3500/15242 batches | perplexity    7.339 | loss    1.993 \n"
     ]
    },
    {
     "name": "stderr",
     "output_type": "stream",
     "text": [
      "4163it [00:03, 1244.42it/s]"
     ]
    },
    {
     "name": "stdout",
     "output_type": "stream",
     "text": [
      "| epoch   3 |  4000/15242 batches | perplexity    7.458 | loss    2.009 \n"
     ]
    },
    {
     "name": "stderr",
     "output_type": "stream",
     "text": [
      "4678it [00:03, 1142.66it/s]"
     ]
    },
    {
     "name": "stdout",
     "output_type": "stream",
     "text": [
      "| epoch   3 |  4500/15242 batches | perplexity    7.385 | loss    1.999 \n"
     ]
    },
    {
     "name": "stderr",
     "output_type": "stream",
     "text": [
      "5190it [00:04, 1259.51it/s]"
     ]
    },
    {
     "name": "stdout",
     "output_type": "stream",
     "text": [
      "| epoch   3 |  5000/15242 batches | perplexity    7.383 | loss    1.999 \n"
     ]
    },
    {
     "name": "stderr",
     "output_type": "stream",
     "text": [
      "5717it [00:04, 1255.72it/s]"
     ]
    },
    {
     "name": "stdout",
     "output_type": "stream",
     "text": [
      "| epoch   3 |  5500/15242 batches | perplexity    7.397 | loss    2.001 \n"
     ]
    },
    {
     "name": "stderr",
     "output_type": "stream",
     "text": [
      "6247it [00:04, 1313.48it/s]"
     ]
    },
    {
     "name": "stdout",
     "output_type": "stream",
     "text": [
      "| epoch   3 |  6000/15242 batches | perplexity    7.323 | loss    1.991 \n"
     ]
    },
    {
     "name": "stderr",
     "output_type": "stream",
     "text": [
      "6646it [00:05, 1314.11it/s]"
     ]
    },
    {
     "name": "stdout",
     "output_type": "stream",
     "text": [
      "| epoch   3 |  6500/15242 batches | perplexity    7.449 | loss    2.008 \n"
     ]
    },
    {
     "name": "stderr",
     "output_type": "stream",
     "text": [
      "7176it [00:05, 1304.75it/s]"
     ]
    },
    {
     "name": "stdout",
     "output_type": "stream",
     "text": [
      "| epoch   3 |  7000/15242 batches | perplexity    7.345 | loss    1.994 \n"
     ]
    },
    {
     "name": "stderr",
     "output_type": "stream",
     "text": [
      "7710it [00:06, 1313.05it/s]"
     ]
    },
    {
     "name": "stdout",
     "output_type": "stream",
     "text": [
      "| epoch   3 |  7500/15242 batches | perplexity    7.422 | loss    2.004 \n"
     ]
    },
    {
     "name": "stderr",
     "output_type": "stream",
     "text": [
      "8245it [00:06, 1322.72it/s]"
     ]
    },
    {
     "name": "stdout",
     "output_type": "stream",
     "text": [
      "| epoch   3 |  8000/15242 batches | perplexity    7.424 | loss    2.005 \n"
     ]
    },
    {
     "name": "stderr",
     "output_type": "stream",
     "text": [
      "8645it [00:06, 1322.72it/s]"
     ]
    },
    {
     "name": "stdout",
     "output_type": "stream",
     "text": [
      "| epoch   3 |  8500/15242 batches | perplexity    7.479 | loss    2.012 \n"
     ]
    },
    {
     "name": "stderr",
     "output_type": "stream",
     "text": [
      "9175it [00:07, 1304.98it/s]"
     ]
    },
    {
     "name": "stdout",
     "output_type": "stream",
     "text": [
      "| epoch   3 |  9000/15242 batches | perplexity    7.359 | loss    1.996 \n"
     ]
    },
    {
     "name": "stderr",
     "output_type": "stream",
     "text": [
      "9706it [00:07, 1313.06it/s]"
     ]
    },
    {
     "name": "stdout",
     "output_type": "stream",
     "text": [
      "| epoch   3 |  9500/15242 batches | perplexity    7.335 | loss    1.993 \n"
     ]
    },
    {
     "name": "stderr",
     "output_type": "stream",
     "text": [
      "10091it [00:07, 1177.24it/s]"
     ]
    },
    {
     "name": "stdout",
     "output_type": "stream",
     "text": [
      "| epoch   3 | 10000/15242 batches | perplexity    7.386 | loss    2.000 \n"
     ]
    },
    {
     "name": "stderr",
     "output_type": "stream",
     "text": [
      "10543it [00:08, 677.05it/s] "
     ]
    },
    {
     "name": "stdout",
     "output_type": "stream",
     "text": [
      "| epoch   3 | 10500/15242 batches | perplexity    7.537 | loss    2.020 \n"
     ]
    },
    {
     "name": "stderr",
     "output_type": "stream",
     "text": [
      "11122it [00:09, 972.42it/s]"
     ]
    },
    {
     "name": "stdout",
     "output_type": "stream",
     "text": [
      "| epoch   3 | 11000/15242 batches | perplexity    7.337 | loss    1.993 \n"
     ]
    },
    {
     "name": "stderr",
     "output_type": "stream",
     "text": [
      "11700it [00:09, 1145.30it/s]"
     ]
    },
    {
     "name": "stdout",
     "output_type": "stream",
     "text": [
      "| epoch   3 | 11500/15242 batches | perplexity    7.473 | loss    2.011 \n"
     ]
    },
    {
     "name": "stderr",
     "output_type": "stream",
     "text": [
      "12195it [00:10, 1194.79it/s]"
     ]
    },
    {
     "name": "stdout",
     "output_type": "stream",
     "text": [
      "| epoch   3 | 12000/15242 batches | perplexity    7.429 | loss    2.005 \n"
     ]
    },
    {
     "name": "stderr",
     "output_type": "stream",
     "text": [
      "12686it [00:10, 1173.81it/s]"
     ]
    },
    {
     "name": "stdout",
     "output_type": "stream",
     "text": [
      "| epoch   3 | 12500/15242 batches | perplexity    7.390 | loss    2.000 \n"
     ]
    },
    {
     "name": "stderr",
     "output_type": "stream",
     "text": [
      "13219it [00:11, 1262.31it/s]"
     ]
    },
    {
     "name": "stdout",
     "output_type": "stream",
     "text": [
      "| epoch   3 | 13000/15242 batches | perplexity    7.560 | loss    2.023 \n"
     ]
    },
    {
     "name": "stderr",
     "output_type": "stream",
     "text": [
      "13781it [00:11, 1335.19it/s]"
     ]
    },
    {
     "name": "stdout",
     "output_type": "stream",
     "text": [
      "| epoch   3 | 13500/15242 batches | perplexity    7.528 | loss    2.019 \n"
     ]
    },
    {
     "name": "stderr",
     "output_type": "stream",
     "text": [
      "14193it [00:12, 1200.24it/s]"
     ]
    },
    {
     "name": "stdout",
     "output_type": "stream",
     "text": [
      "| epoch   3 | 14000/15242 batches | perplexity    7.316 | loss    1.990 \n"
     ]
    },
    {
     "name": "stderr",
     "output_type": "stream",
     "text": [
      "14716it [00:12, 1285.72it/s]"
     ]
    },
    {
     "name": "stdout",
     "output_type": "stream",
     "text": [
      "| epoch   3 | 14500/15242 batches | perplexity    7.546 | loss    2.021 \n"
     ]
    },
    {
     "name": "stderr",
     "output_type": "stream",
     "text": [
      "15234it [00:12, 1255.47it/s]"
     ]
    },
    {
     "name": "stdout",
     "output_type": "stream",
     "text": [
      "| epoch   3 | 15000/15242 batches | perplexity    7.164 | loss    1.969 \n"
     ]
    },
    {
     "name": "stderr",
     "output_type": "stream",
     "text": [
      "15242it [00:12, 1185.95it/s]\n"
     ]
    },
    {
     "name": "stdout",
     "output_type": "stream",
     "text": [
      "-----------------------------------------------------------\n",
      "| end of epoch   3 | time: 12.91s | valid perplexity    7.570 | valid loss    2.024\n",
      "-----------------------------------------------------------\n"
     ]
    },
    {
     "name": "stderr",
     "output_type": "stream",
     "text": [
      "655it [00:00, 1326.71it/s]"
     ]
    },
    {
     "name": "stdout",
     "output_type": "stream",
     "text": [
      "| epoch   4 |   500/15242 batches | perplexity    7.458 | loss    2.009 \n"
     ]
    },
    {
     "name": "stderr",
     "output_type": "stream",
     "text": [
      "1201it [00:00, 1334.39it/s]"
     ]
    },
    {
     "name": "stdout",
     "output_type": "stream",
     "text": [
      "| epoch   4 |  1000/15242 batches | perplexity    7.344 | loss    1.994 \n"
     ]
    },
    {
     "name": "stderr",
     "output_type": "stream",
     "text": [
      "1712it [00:01, 1176.24it/s]"
     ]
    },
    {
     "name": "stdout",
     "output_type": "stream",
     "text": [
      "| epoch   4 |  1500/15242 batches | perplexity    7.249 | loss    1.981 \n"
     ]
    },
    {
     "name": "stderr",
     "output_type": "stream",
     "text": [
      "2235it [00:01, 1293.54it/s]"
     ]
    },
    {
     "name": "stdout",
     "output_type": "stream",
     "text": [
      "| epoch   4 |  2000/15242 batches | perplexity    7.357 | loss    1.996 \n"
     ]
    },
    {
     "name": "stderr",
     "output_type": "stream",
     "text": [
      "2651it [00:02, 1359.40it/s]"
     ]
    },
    {
     "name": "stdout",
     "output_type": "stream",
     "text": [
      "| epoch   4 |  2500/15242 batches | perplexity    7.577 | loss    2.025 \n"
     ]
    },
    {
     "name": "stderr",
     "output_type": "stream",
     "text": [
      "3182it [00:02, 1164.48it/s]"
     ]
    },
    {
     "name": "stdout",
     "output_type": "stream",
     "text": [
      "| epoch   4 |  3000/15242 batches | perplexity    7.494 | loss    2.014 \n"
     ]
    },
    {
     "name": "stderr",
     "output_type": "stream",
     "text": [
      "3633it [00:03, 1007.37it/s]"
     ]
    },
    {
     "name": "stdout",
     "output_type": "stream",
     "text": [
      "| epoch   4 |  3500/15242 batches | perplexity    7.106 | loss    1.961 \n"
     ]
    },
    {
     "name": "stderr",
     "output_type": "stream",
     "text": [
      "4238it [00:03, 1191.56it/s]"
     ]
    },
    {
     "name": "stdout",
     "output_type": "stream",
     "text": [
      "| epoch   4 |  4000/15242 batches | perplexity    7.344 | loss    1.994 \n"
     ]
    },
    {
     "name": "stderr",
     "output_type": "stream",
     "text": [
      "4739it [00:03, 1143.98it/s]"
     ]
    },
    {
     "name": "stdout",
     "output_type": "stream",
     "text": [
      "| epoch   4 |  4500/15242 batches | perplexity    7.193 | loss    1.973 \n"
     ]
    },
    {
     "name": "stderr",
     "output_type": "stream",
     "text": [
      "5221it [00:04, 1123.57it/s]"
     ]
    },
    {
     "name": "stdout",
     "output_type": "stream",
     "text": [
      "| epoch   4 |  5000/15242 batches | perplexity    7.477 | loss    2.012 \n"
     ]
    },
    {
     "name": "stderr",
     "output_type": "stream",
     "text": [
      "5690it [00:04, 1124.97it/s]"
     ]
    },
    {
     "name": "stdout",
     "output_type": "stream",
     "text": [
      "| epoch   4 |  5500/15242 batches | perplexity    7.357 | loss    1.996 \n"
     ]
    },
    {
     "name": "stderr",
     "output_type": "stream",
     "text": [
      "6193it [00:05, 1230.64it/s]"
     ]
    },
    {
     "name": "stdout",
     "output_type": "stream",
     "text": [
      "| epoch   4 |  6000/15242 batches | perplexity    7.244 | loss    1.980 \n"
     ]
    },
    {
     "name": "stderr",
     "output_type": "stream",
     "text": [
      "6690it [00:05, 1217.42it/s]"
     ]
    },
    {
     "name": "stdout",
     "output_type": "stream",
     "text": [
      "| epoch   4 |  6500/15242 batches | perplexity    7.436 | loss    2.006 \n"
     ]
    },
    {
     "name": "stderr",
     "output_type": "stream",
     "text": [
      "7179it [00:06, 1205.11it/s]"
     ]
    },
    {
     "name": "stdout",
     "output_type": "stream",
     "text": [
      "| epoch   4 |  7000/15242 batches | perplexity    7.374 | loss    1.998 \n"
     ]
    },
    {
     "name": "stderr",
     "output_type": "stream",
     "text": [
      "7694it [00:06, 1268.44it/s]"
     ]
    },
    {
     "name": "stdout",
     "output_type": "stream",
     "text": [
      "| epoch   4 |  7500/15242 batches | perplexity    7.472 | loss    2.011 \n"
     ]
    },
    {
     "name": "stderr",
     "output_type": "stream",
     "text": [
      "8243it [00:06, 1324.15it/s]"
     ]
    },
    {
     "name": "stdout",
     "output_type": "stream",
     "text": [
      "| epoch   4 |  8000/15242 batches | perplexity    7.328 | loss    1.992 \n"
     ]
    },
    {
     "name": "stderr",
     "output_type": "stream",
     "text": [
      "8650it [00:07, 1326.11it/s]"
     ]
    },
    {
     "name": "stdout",
     "output_type": "stream",
     "text": [
      "| epoch   4 |  8500/15242 batches | perplexity    7.386 | loss    2.000 \n"
     ]
    },
    {
     "name": "stderr",
     "output_type": "stream",
     "text": [
      "9192it [00:07, 1279.58it/s]"
     ]
    },
    {
     "name": "stdout",
     "output_type": "stream",
     "text": [
      "| epoch   4 |  9000/15242 batches | perplexity    7.425 | loss    2.005 \n"
     ]
    },
    {
     "name": "stderr",
     "output_type": "stream",
     "text": [
      "9736it [00:08, 1339.36it/s]"
     ]
    },
    {
     "name": "stdout",
     "output_type": "stream",
     "text": [
      "| epoch   4 |  9500/15242 batches | perplexity    7.456 | loss    2.009 \n"
     ]
    },
    {
     "name": "stderr",
     "output_type": "stream",
     "text": [
      "10139it [00:08, 1327.64it/s]"
     ]
    },
    {
     "name": "stdout",
     "output_type": "stream",
     "text": [
      "| epoch   4 | 10000/15242 batches | perplexity    7.445 | loss    2.008 \n"
     ]
    },
    {
     "name": "stderr",
     "output_type": "stream",
     "text": [
      "10693it [00:08, 1369.19it/s]"
     ]
    },
    {
     "name": "stdout",
     "output_type": "stream",
     "text": [
      "| epoch   4 | 10500/15242 batches | perplexity    7.414 | loss    2.003 \n"
     ]
    },
    {
     "name": "stderr",
     "output_type": "stream",
     "text": [
      "11254it [00:09, 1394.59it/s]"
     ]
    },
    {
     "name": "stdout",
     "output_type": "stream",
     "text": [
      "| epoch   4 | 11000/15242 batches | perplexity    7.277 | loss    1.985 \n"
     ]
    },
    {
     "name": "stderr",
     "output_type": "stream",
     "text": [
      "11673it [00:09, 1257.60it/s]"
     ]
    },
    {
     "name": "stdout",
     "output_type": "stream",
     "text": [
      "| epoch   4 | 11500/15242 batches | perplexity    7.474 | loss    2.011 \n"
     ]
    },
    {
     "name": "stderr",
     "output_type": "stream",
     "text": [
      "12188it [00:09, 1197.59it/s]"
     ]
    },
    {
     "name": "stdout",
     "output_type": "stream",
     "text": [
      "| epoch   4 | 12000/15242 batches | perplexity    7.417 | loss    2.004 \n"
     ]
    },
    {
     "name": "stderr",
     "output_type": "stream",
     "text": [
      "12746it [00:10, 1349.12it/s]"
     ]
    },
    {
     "name": "stdout",
     "output_type": "stream",
     "text": [
      "| epoch   4 | 12500/15242 batches | perplexity    7.561 | loss    2.023 \n"
     ]
    },
    {
     "name": "stderr",
     "output_type": "stream",
     "text": [
      "13164it [00:10, 1330.42it/s]"
     ]
    },
    {
     "name": "stdout",
     "output_type": "stream",
     "text": [
      "| epoch   4 | 13000/15242 batches | perplexity    7.309 | loss    1.989 \n"
     ]
    },
    {
     "name": "stderr",
     "output_type": "stream",
     "text": [
      "13723it [00:11, 1380.97it/s]"
     ]
    },
    {
     "name": "stdout",
     "output_type": "stream",
     "text": [
      "| epoch   4 | 13500/15242 batches | perplexity    7.489 | loss    2.013 \n"
     ]
    },
    {
     "name": "stderr",
     "output_type": "stream",
     "text": [
      "14281it [00:11, 1381.30it/s]"
     ]
    },
    {
     "name": "stdout",
     "output_type": "stream",
     "text": [
      "| epoch   4 | 14000/15242 batches | perplexity    7.536 | loss    2.020 \n"
     ]
    },
    {
     "name": "stderr",
     "output_type": "stream",
     "text": [
      "14703it [00:11, 1385.33it/s]"
     ]
    },
    {
     "name": "stdout",
     "output_type": "stream",
     "text": [
      "| epoch   4 | 14500/15242 batches | perplexity    7.270 | loss    1.984 \n"
     ]
    },
    {
     "name": "stderr",
     "output_type": "stream",
     "text": [
      "15100it [00:12, 1175.71it/s]"
     ]
    },
    {
     "name": "stdout",
     "output_type": "stream",
     "text": [
      "| epoch   4 | 15000/15242 batches | perplexity    7.504 | loss    2.015 \n"
     ]
    },
    {
     "name": "stderr",
     "output_type": "stream",
     "text": [
      "15242it [00:12, 1243.36it/s]\n"
     ]
    },
    {
     "name": "stdout",
     "output_type": "stream",
     "text": [
      "-----------------------------------------------------------\n",
      "| end of epoch   4 | time: 12.32s | valid perplexity    7.567 | valid loss    2.024\n",
      "-----------------------------------------------------------\n"
     ]
    },
    {
     "name": "stderr",
     "output_type": "stream",
     "text": [
      "632it [00:00, 1067.83it/s]"
     ]
    },
    {
     "name": "stdout",
     "output_type": "stream",
     "text": [
      "| epoch   5 |   500/15242 batches | perplexity    7.283 | loss    1.985 \n"
     ]
    },
    {
     "name": "stderr",
     "output_type": "stream",
     "text": [
      "1111it [00:01, 1106.92it/s]"
     ]
    },
    {
     "name": "stdout",
     "output_type": "stream",
     "text": [
      "| epoch   5 |  1000/15242 batches | perplexity    7.332 | loss    1.992 \n"
     ]
    },
    {
     "name": "stderr",
     "output_type": "stream",
     "text": [
      "1649it [00:01, 1009.57it/s]"
     ]
    },
    {
     "name": "stdout",
     "output_type": "stream",
     "text": [
      "| epoch   5 |  1500/15242 batches | perplexity    7.336 | loss    1.993 \n"
     ]
    },
    {
     "name": "stderr",
     "output_type": "stream",
     "text": [
      "2172it [00:02, 1032.16it/s]"
     ]
    },
    {
     "name": "stdout",
     "output_type": "stream",
     "text": [
      "| epoch   5 |  2000/15242 batches | perplexity    7.404 | loss    2.002 \n"
     ]
    },
    {
     "name": "stderr",
     "output_type": "stream",
     "text": [
      "2607it [00:02, 1034.70it/s]"
     ]
    },
    {
     "name": "stdout",
     "output_type": "stream",
     "text": [
      "| epoch   5 |  2500/15242 batches | perplexity    7.393 | loss    2.001 \n"
     ]
    },
    {
     "name": "stderr",
     "output_type": "stream",
     "text": [
      "3200it [00:03, 1178.10it/s]"
     ]
    },
    {
     "name": "stdout",
     "output_type": "stream",
     "text": [
      "| epoch   5 |  3000/15242 batches | perplexity    7.457 | loss    2.009 \n"
     ]
    },
    {
     "name": "stderr",
     "output_type": "stream",
     "text": [
      "3705it [00:03, 1190.58it/s]"
     ]
    },
    {
     "name": "stdout",
     "output_type": "stream",
     "text": [
      "| epoch   5 |  3500/15242 batches | perplexity    7.432 | loss    2.006 \n"
     ]
    },
    {
     "name": "stderr",
     "output_type": "stream",
     "text": [
      "4220it [00:03, 1265.24it/s]"
     ]
    },
    {
     "name": "stdout",
     "output_type": "stream",
     "text": [
      "| epoch   5 |  4000/15242 batches | perplexity    7.402 | loss    2.002 \n"
     ]
    },
    {
     "name": "stderr",
     "output_type": "stream",
     "text": [
      "4783it [00:04, 1375.46it/s]"
     ]
    },
    {
     "name": "stdout",
     "output_type": "stream",
     "text": [
      "| epoch   5 |  4500/15242 batches | perplexity    7.358 | loss    1.996 \n"
     ]
    },
    {
     "name": "stderr",
     "output_type": "stream",
     "text": [
      "5205it [00:04, 1391.97it/s]"
     ]
    },
    {
     "name": "stdout",
     "output_type": "stream",
     "text": [
      "| epoch   5 |  5000/15242 batches | perplexity    7.435 | loss    2.006 \n"
     ]
    },
    {
     "name": "stderr",
     "output_type": "stream",
     "text": [
      "5612it [00:04, 1183.88it/s]"
     ]
    },
    {
     "name": "stdout",
     "output_type": "stream",
     "text": [
      "| epoch   5 |  5500/15242 batches | perplexity    7.553 | loss    2.022 \n"
     ]
    },
    {
     "name": "stderr",
     "output_type": "stream",
     "text": [
      "6247it [00:05, 1223.03it/s]"
     ]
    },
    {
     "name": "stdout",
     "output_type": "stream",
     "text": [
      "| epoch   5 |  6000/15242 batches | perplexity    7.460 | loss    2.010 \n"
     ]
    },
    {
     "name": "stderr",
     "output_type": "stream",
     "text": [
      "6658it [00:05, 1319.58it/s]"
     ]
    },
    {
     "name": "stdout",
     "output_type": "stream",
     "text": [
      "| epoch   5 |  6500/15242 batches | perplexity    7.427 | loss    2.005 \n"
     ]
    },
    {
     "name": "stderr",
     "output_type": "stream",
     "text": [
      "7222it [00:06, 1371.72it/s]"
     ]
    },
    {
     "name": "stdout",
     "output_type": "stream",
     "text": [
      "| epoch   5 |  7000/15242 batches | perplexity    7.489 | loss    2.013 \n"
     ]
    },
    {
     "name": "stderr",
     "output_type": "stream",
     "text": [
      "7615it [00:06, 1129.17it/s]"
     ]
    },
    {
     "name": "stdout",
     "output_type": "stream",
     "text": [
      "| epoch   5 |  7500/15242 batches | perplexity    7.272 | loss    1.984 \n"
     ]
    },
    {
     "name": "stderr",
     "output_type": "stream",
     "text": [
      "8162it [00:07, 996.46it/s] "
     ]
    },
    {
     "name": "stdout",
     "output_type": "stream",
     "text": [
      "| epoch   5 |  8000/15242 batches | perplexity    7.304 | loss    1.988 \n"
     ]
    },
    {
     "name": "stderr",
     "output_type": "stream",
     "text": [
      "8648it [00:07, 922.44it/s]"
     ]
    },
    {
     "name": "stdout",
     "output_type": "stream",
     "text": [
      "| epoch   5 |  8500/15242 batches | perplexity    7.496 | loss    2.014 \n"
     ]
    },
    {
     "name": "stderr",
     "output_type": "stream",
     "text": [
      "9135it [00:08, 939.55it/s]"
     ]
    },
    {
     "name": "stdout",
     "output_type": "stream",
     "text": [
      "| epoch   5 |  9000/15242 batches | perplexity    7.371 | loss    1.997 \n"
     ]
    },
    {
     "name": "stderr",
     "output_type": "stream",
     "text": [
      "9665it [00:08, 983.53it/s]"
     ]
    },
    {
     "name": "stdout",
     "output_type": "stream",
     "text": [
      "| epoch   5 |  9500/15242 batches | perplexity    7.255 | loss    1.982 \n"
     ]
    },
    {
     "name": "stderr",
     "output_type": "stream",
     "text": [
      "10164it [00:09, 977.64it/s]"
     ]
    },
    {
     "name": "stdout",
     "output_type": "stream",
     "text": [
      "| epoch   5 | 10000/15242 batches | perplexity    7.444 | loss    2.007 \n"
     ]
    },
    {
     "name": "stderr",
     "output_type": "stream",
     "text": [
      "10659it [00:09, 922.00it/s]"
     ]
    },
    {
     "name": "stdout",
     "output_type": "stream",
     "text": [
      "| epoch   5 | 10500/15242 batches | perplexity    7.196 | loss    1.974 \n"
     ]
    },
    {
     "name": "stderr",
     "output_type": "stream",
     "text": [
      "11174it [00:10, 983.58it/s] "
     ]
    },
    {
     "name": "stdout",
     "output_type": "stream",
     "text": [
      "| epoch   5 | 11000/15242 batches | perplexity    7.574 | loss    2.025 \n"
     ]
    },
    {
     "name": "stderr",
     "output_type": "stream",
     "text": [
      "11699it [00:10, 1006.16it/s]"
     ]
    },
    {
     "name": "stdout",
     "output_type": "stream",
     "text": [
      "| epoch   5 | 11500/15242 batches | perplexity    7.657 | loss    2.036 \n"
     ]
    },
    {
     "name": "stderr",
     "output_type": "stream",
     "text": [
      "12135it [00:11, 979.90it/s] "
     ]
    },
    {
     "name": "stdout",
     "output_type": "stream",
     "text": [
      "| epoch   5 | 12000/15242 batches | perplexity    7.227 | loss    1.978 \n"
     ]
    },
    {
     "name": "stderr",
     "output_type": "stream",
     "text": [
      "12623it [00:11, 957.09it/s]"
     ]
    },
    {
     "name": "stdout",
     "output_type": "stream",
     "text": [
      "| epoch   5 | 12500/15242 batches | perplexity    7.226 | loss    1.978 \n"
     ]
    },
    {
     "name": "stderr",
     "output_type": "stream",
     "text": [
      "13102it [00:12, 916.90it/s]"
     ]
    },
    {
     "name": "stdout",
     "output_type": "stream",
     "text": [
      "| epoch   5 | 13000/15242 batches | perplexity    7.357 | loss    1.996 \n"
     ]
    },
    {
     "name": "stderr",
     "output_type": "stream",
     "text": [
      "13597it [00:12, 926.61it/s]"
     ]
    },
    {
     "name": "stdout",
     "output_type": "stream",
     "text": [
      "| epoch   5 | 13500/15242 batches | perplexity    7.407 | loss    2.002 \n"
     ]
    },
    {
     "name": "stderr",
     "output_type": "stream",
     "text": [
      "14094it [00:13, 902.86it/s]"
     ]
    },
    {
     "name": "stdout",
     "output_type": "stream",
     "text": [
      "| epoch   5 | 14000/15242 batches | perplexity    7.347 | loss    1.994 \n"
     ]
    },
    {
     "name": "stderr",
     "output_type": "stream",
     "text": [
      "14607it [00:13, 975.52it/s]"
     ]
    },
    {
     "name": "stdout",
     "output_type": "stream",
     "text": [
      "| epoch   5 | 14500/15242 batches | perplexity    7.379 | loss    1.999 \n"
     ]
    },
    {
     "name": "stderr",
     "output_type": "stream",
     "text": [
      "15101it [00:14, 966.35it/s]"
     ]
    },
    {
     "name": "stdout",
     "output_type": "stream",
     "text": [
      "| epoch   5 | 15000/15242 batches | perplexity    7.213 | loss    1.976 \n"
     ]
    },
    {
     "name": "stderr",
     "output_type": "stream",
     "text": [
      "15242it [00:14, 1044.87it/s]\n"
     ]
    },
    {
     "name": "stdout",
     "output_type": "stream",
     "text": [
      "-----------------------------------------------------------\n",
      "| end of epoch   5 | time: 14.64s | valid perplexity    7.567 | valid loss    2.024\n",
      "-----------------------------------------------------------\n",
      "Checking the results of test dataset.\n",
      "test perplexity    7.400 | test loss    2.001 \n"
     ]
    }
   ],
   "source": [
    "# Train the model\n",
    "for epoch in range(1, num_epochs + 1):\n",
    "    epoch_start_time = time.time()\n",
    "    train_model(train_loader, model, optimizer, criterion, epoch)\n",
    "    loss_val, perplexity_val = evaluate_model(validation_loader, model, criterion)\n",
    "    scheduler.step()\n",
    "    print(\"-\" * 59)\n",
    "    print(\n",
    "        \"| end of epoch {:3d} \"\n",
    "        \"| time: {:5.2f}s \"\n",
    "        \"| valid perplexity {:8.3f} \"\n",
    "        \"| valid loss {:8.3f}\".format(\n",
    "            epoch,\n",
    "            time.time() - epoch_start_time,\n",
    "            perplexity_val,\n",
    "            loss_val\n",
    "        )\n",
    "    )\n",
    "    print(\"-\" * 59)\n",
    "\n",
    "print(\"Checking the results of test dataset.\")\n",
    "loss_test, perplexity_test = evaluate_model(test_loader, model, criterion)\n",
    "print(\"test perplexity {:8.3f} | test loss {:8.3f} \".format(perplexity_test, loss_test))\n"
   ]
  },
  {
   "cell_type": "code",
   "execution_count": 14,
   "id": "6e97642c",
   "metadata": {},
   "outputs": [
    {
     "name": "stdout",
     "output_type": "stream",
     "text": [
      "brconi.\n",
      "morijush.\n",
      "orisa.\n",
      "bellitylie.\n",
      "digh.\n",
      "praylee.\n",
      "ley.\n",
      "chril.\n",
      "ceiblayvennse.\n",
      "jadi.\n",
      "nev.\n",
      "lastapraeno.\n",
      "corsen.\n",
      "lavi.\n",
      "simanttyn.\n",
      "stre.\n",
      "ngeri.\n",
      "rah.\n",
      "ern.\n",
      "adrey.\n",
      "mangeo.\n",
      "for.\n",
      "kharo.\n",
      "barol.\n",
      "kachanaca.\n",
      "ren.\n",
      "kayne.\n",
      "lee.\n",
      "ania.\n",
      "mai.\n",
      "bondy.\n",
      "laver.\n",
      "ayne.\n",
      "shi.\n",
      "myani.\n",
      "shimo.\n",
      "bran.\n",
      "keid.\n",
      "moristovisspperisaree.\n",
      "mer.\n",
      "sumbritonta.\n",
      "eavay.\n",
      "shilonn.\n",
      "sodel.\n",
      "maestoa.\n",
      "rayadisiny.\n",
      "rann.\n",
      "tik.\n",
      "gona.\n",
      "faydhele.\n"
     ]
    }
   ],
   "source": [
    "# Generate some words with model\n",
    "for _ in range(50):\n",
    "    print(generate_word(model, train_dataset))"
   ]
  }
 ],
 "metadata": {
  "kernelspec": {
   "display_name": "Python 3 (ipykernel)",
   "language": "python",
   "name": "python3"
  },
  "language_info": {
   "codemirror_mode": {
    "name": "ipython",
    "version": 3
   },
   "file_extension": ".py",
   "mimetype": "text/x-python",
   "name": "python",
   "nbconvert_exporter": "python",
   "pygments_lexer": "ipython3",
   "version": "3.9.18"
  }
 },
 "nbformat": 4,
 "nbformat_minor": 5
}
